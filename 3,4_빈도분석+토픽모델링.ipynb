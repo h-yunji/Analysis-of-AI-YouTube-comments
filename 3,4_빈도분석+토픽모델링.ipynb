{
 "cells": [
  {
   "cell_type": "markdown",
   "metadata": {
    "id": "8BK6OV6ZUh5I"
   },
   "source": [
    "#Topic Modeling (간단한 문서1권)"
   ]
  },
  {
   "cell_type": "markdown",
   "metadata": {
    "id": "TPWRgCPHUh5M"
   },
   "source": [
    "### 주요 라이브러리 모듈"
   ]
  },
  {
   "cell_type": "markdown",
   "metadata": {
    "id": "LGC9xyOgUh5M"
   },
   "source": [
    "- gensim: 다양한 텍스트 분석 기능을 제공하는 자연어 처리 패키지\n",
    "  - gensim.corpora: 고빈도순 어휘 사전 생성\n",
    "  - gensim.models: LDA/LSA 토픽 모델링\n",
    "    - 단어의 토픽 가중치, 문서의 토픽 가중치, 토픽의 주요 단어 도출\n",
    "  - gensim.corpora.CoherenceModel: 토픽 품질 평가\n",
    "\n",
    "\n",
    "- pyLDAvis\n",
    "  - 토픽 모델링 결과의 시각화"
   ]
  },
  {
   "cell_type": "code",
   "execution_count": 1,
   "metadata": {
    "colab": {
     "base_uri": "https://localhost:8080/"
    },
    "id": "f1qiXX1GW-e3",
    "outputId": "518c01ec-7f1f-49ef-e455-1709b6888673"
   },
   "outputs": [
    {
     "name": "stdout",
     "output_type": "stream",
     "text": [
      "Mounted at /content/gdrive\n"
     ]
    }
   ],
   "source": [
    "from google.colab import drive\n",
    "drive.mount('/content/gdrive')"
   ]
  },
  {
   "cell_type": "markdown",
   "metadata": {
    "id": "LlLiHrVnUh5S"
   },
   "source": [
    "### Package Import & Parameter Setting"
   ]
  },
  {
   "cell_type": "code",
   "execution_count": 2,
   "metadata": {
    "colab": {
     "base_uri": "https://localhost:8080/"
    },
    "id": "JFOTTtcWX0Xj",
    "outputId": "9f19ded1-b65f-49e5-8dd6-746f75a77dde"
   },
   "outputs": [
    {
     "name": "stdout",
     "output_type": "stream",
     "text": [
      "Looking in indexes: https://pypi.org/simple, https://us-python.pkg.dev/colab-wheels/public/simple/\n",
      "Collecting ujson\n",
      "  Downloading ujson-5.3.0-cp37-cp37m-manylinux_2_17_x86_64.manylinux2014_x86_64.whl (45 kB)\n",
      "\u001b[K     |████████████████████████████████| 45 kB 3.5 MB/s \n",
      "\u001b[?25hInstalling collected packages: ujson\n",
      "Successfully installed ujson-5.3.0\n",
      "Looking in indexes: https://pypi.org/simple, https://us-python.pkg.dev/colab-wheels/public/simple/\n",
      "Collecting konlpy\n",
      "  Downloading konlpy-0.6.0-py2.py3-none-any.whl (19.4 MB)\n",
      "\u001b[K     |████████████████████████████████| 19.4 MB 47.1 MB/s \n",
      "\u001b[?25hRequirement already satisfied: lxml>=4.1.0 in /usr/local/lib/python3.7/dist-packages (from konlpy) (4.2.6)\n",
      "Requirement already satisfied: numpy>=1.6 in /usr/local/lib/python3.7/dist-packages (from konlpy) (1.21.6)\n",
      "Collecting JPype1>=0.7.0\n",
      "  Downloading JPype1-1.4.0-cp37-cp37m-manylinux_2_5_x86_64.manylinux1_x86_64.whl (453 kB)\n",
      "\u001b[K     |████████████████████████████████| 453 kB 50.5 MB/s \n",
      "\u001b[?25hRequirement already satisfied: typing-extensions in /usr/local/lib/python3.7/dist-packages (from JPype1>=0.7.0->konlpy) (4.1.1)\n",
      "Installing collected packages: JPype1, konlpy\n",
      "Successfully installed JPype1-1.4.0 konlpy-0.6.0\n",
      "Looking in indexes: https://pypi.org/simple, https://us-python.pkg.dev/colab-wheels/public/simple/\n",
      "Collecting pyLDAvis\n",
      "  Downloading pyLDAvis-3.3.1.tar.gz (1.7 MB)\n",
      "\u001b[K     |████████████████████████████████| 1.7 MB 27.1 MB/s \n",
      "\u001b[?25h  Installing build dependencies ... \u001b[?25l\u001b[?25hdone\n",
      "  Getting requirements to build wheel ... \u001b[?25l\u001b[?25hdone\n",
      "  Installing backend dependencies ... \u001b[?25l\u001b[?25hdone\n",
      "    Preparing wheel metadata ... \u001b[?25l\u001b[?25hdone\n",
      "Requirement already satisfied: joblib in /usr/local/lib/python3.7/dist-packages (from pyLDAvis) (1.1.0)\n",
      "Requirement already satisfied: scipy in /usr/local/lib/python3.7/dist-packages (from pyLDAvis) (1.4.1)\n",
      "Collecting funcy\n",
      "  Downloading funcy-1.17-py2.py3-none-any.whl (33 kB)\n",
      "Requirement already satisfied: gensim in /usr/local/lib/python3.7/dist-packages (from pyLDAvis) (3.6.0)\n",
      "Requirement already satisfied: sklearn in /usr/local/lib/python3.7/dist-packages (from pyLDAvis) (0.0)\n",
      "Requirement already satisfied: future in /usr/local/lib/python3.7/dist-packages (from pyLDAvis) (0.16.0)\n",
      "Requirement already satisfied: numexpr in /usr/local/lib/python3.7/dist-packages (from pyLDAvis) (2.8.1)\n",
      "Requirement already satisfied: scikit-learn in /usr/local/lib/python3.7/dist-packages (from pyLDAvis) (1.0.2)\n",
      "Requirement already satisfied: jinja2 in /usr/local/lib/python3.7/dist-packages (from pyLDAvis) (2.11.3)\n",
      "Requirement already satisfied: numpy>=1.20.0 in /usr/local/lib/python3.7/dist-packages (from pyLDAvis) (1.21.6)\n",
      "Requirement already satisfied: setuptools in /usr/local/lib/python3.7/dist-packages (from pyLDAvis) (57.4.0)\n",
      "Requirement already satisfied: pandas>=1.2.0 in /usr/local/lib/python3.7/dist-packages (from pyLDAvis) (1.3.5)\n",
      "Requirement already satisfied: pytz>=2017.3 in /usr/local/lib/python3.7/dist-packages (from pandas>=1.2.0->pyLDAvis) (2022.1)\n",
      "Requirement already satisfied: python-dateutil>=2.7.3 in /usr/local/lib/python3.7/dist-packages (from pandas>=1.2.0->pyLDAvis) (2.8.2)\n",
      "Requirement already satisfied: six>=1.5 in /usr/local/lib/python3.7/dist-packages (from python-dateutil>=2.7.3->pandas>=1.2.0->pyLDAvis) (1.15.0)\n",
      "Requirement already satisfied: smart-open>=1.2.1 in /usr/local/lib/python3.7/dist-packages (from gensim->pyLDAvis) (5.2.1)\n",
      "Requirement already satisfied: MarkupSafe>=0.23 in /usr/local/lib/python3.7/dist-packages (from jinja2->pyLDAvis) (2.0.1)\n",
      "Requirement already satisfied: packaging in /usr/local/lib/python3.7/dist-packages (from numexpr->pyLDAvis) (21.3)\n",
      "Requirement already satisfied: pyparsing!=3.0.5,>=2.0.2 in /usr/local/lib/python3.7/dist-packages (from packaging->numexpr->pyLDAvis) (3.0.9)\n",
      "Requirement already satisfied: threadpoolctl>=2.0.0 in /usr/local/lib/python3.7/dist-packages (from scikit-learn->pyLDAvis) (3.1.0)\n",
      "Building wheels for collected packages: pyLDAvis\n",
      "  Building wheel for pyLDAvis (PEP 517) ... \u001b[?25l\u001b[?25hdone\n",
      "  Created wheel for pyLDAvis: filename=pyLDAvis-3.3.1-py2.py3-none-any.whl size=136898 sha256=fca5840629864dffe9f865e7b35ea1555a42b66095b7b20b8a17d092ba62d1d6\n",
      "  Stored in directory: /root/.cache/pip/wheels/c9/21/f6/17bcf2667e8a68532ba2fbf6d5c72fdf4c7f7d9abfa4852d2f\n",
      "Successfully built pyLDAvis\n",
      "Installing collected packages: funcy, pyLDAvis\n",
      "Successfully installed funcy-1.17 pyLDAvis-3.3.1\n",
      "Looking in indexes: https://pypi.org/simple, https://us-python.pkg.dev/colab-wheels/public/simple/\n",
      "Requirement already satisfied: gensim in /usr/local/lib/python3.7/dist-packages (3.6.0)\n",
      "Requirement already satisfied: six>=1.5.0 in /usr/local/lib/python3.7/dist-packages (from gensim) (1.15.0)\n",
      "Requirement already satisfied: smart-open>=1.2.1 in /usr/local/lib/python3.7/dist-packages (from gensim) (5.2.1)\n",
      "Requirement already satisfied: scipy>=0.18.1 in /usr/local/lib/python3.7/dist-packages (from gensim) (1.4.1)\n",
      "Requirement already satisfied: numpy>=1.11.3 in /usr/local/lib/python3.7/dist-packages (from gensim) (1.21.6)\n"
     ]
    }
   ],
   "source": [
    "!pip install ujson\n",
    "!pip install konlpy \n",
    "!pip install pyLDAvis \n",
    "!pip install gensim"
   ]
  },
  {
   "cell_type": "markdown",
   "metadata": {
    "id": "M56DsgVWpdaB"
   },
   "source": [
    "## 토픽모델링"
   ]
  },
  {
   "cell_type": "code",
   "execution_count": 3,
   "metadata": {
    "colab": {
     "base_uri": "https://localhost:8080/"
    },
    "id": "LZvfJINgUh5S",
    "outputId": "6bffed59-bc9d-40ba-bdbf-a6442817bb36"
   },
   "outputs": [
    {
     "name": "stderr",
     "output_type": "stream",
     "text": [
      "/usr/local/lib/python3.7/dist-packages/past/types/oldstr.py:5: DeprecationWarning: Using or importing the ABCs from 'collections' instead of from 'collections.abc' is deprecated since Python 3.3,and in 3.9 it will stop working\n",
      "  from collections import Iterable\n"
     ]
    }
   ],
   "source": [
    "# Data Preprocessing Package\n",
    "import re                       #정규식\n",
    "import numpy as np\n",
    "import pandas as pd\n",
    "import os                      #디렉토리와 경로정보\n",
    "\n",
    "# NLP Package\n",
    "from konlpy.tag import * \n",
    "import gensim                    #토픽모델링을 하는 라이브러리\n",
    "import gensim.corpora as corpora #텍스트분석\n",
    "from gensim.models import CoherenceModel\n",
    "from collections import Counter\n",
    "\n",
    "# Visualization Package   #LDA시각화\n",
    "import pyLDAvis \n",
    "import pyLDAvis.gensim_models\n",
    "import matplotlib.pyplot as plt\n",
    "%matplotlib inline\n",
    "\n",
    "\n",
    "from pprint import pprint #pretty print\n",
    "import itertools #iterable 객체 처리\n",
    "import math\n",
    "\n",
    "import logging #로그처리\n",
    "logging.basicConfig(format='%(asctime)s : %(levelname)s : %(message)s', level=logging.ERROR)\n",
    " \n",
    "import warnings #경고 무시\n",
    "warnings.filterwarnings(\"ignore\",category=DeprecationWarning)\n"
   ]
  },
  {
   "cell_type": "markdown",
   "metadata": {
    "id": "JDzDZlJFUh5T"
   },
   "source": [
    "### 데이터 경로 및 저장 경로 설정"
   ]
  },
  {
   "cell_type": "code",
   "execution_count": 4,
   "metadata": {
    "id": "xvRTakXVUh5U"
   },
   "outputs": [],
   "source": [
    "# 기본 저장 주소\n",
    "ROOT_PATH =\"/content/gdrive/MyDrive/텍데분/기말과제텍데분/\"\n",
    "\n",
    "# 데이터 저장 주소\n",
    "DATA_FOLDER_PATH = os.path.join(ROOT_PATH)\n",
    "DATA_FILE_NAME = os.path.join(DATA_FOLDER_PATH,\"인공지능youtube댓글.csv\")                  # Portal News Crawler에서 저장한 데이터 \n",
    "DATA_STOP_WORD_FILE_NAME = os.path.join(DATA_FOLDER_PATH,\"Data_stop_word.txt\")   # 불용어 사전 \n",
    "\n",
    "# 모델 저장 주소\n",
    "MODEL_SAVE_FOLDER = os.path.join(ROOT_PATH,\"\")\n",
    "LDA_MODEL_SAVE_NAME = os.path.join(MODEL_SAVE_FOLDER, \"Model_lda_topic_modeling.lda\")\n",
    "OPT_MODEL_SAVE_NAME = os.path.join(MODEL_SAVE_FOLDER, \"Model_opt_topic_modeling.lda\")\n",
    "\n",
    "# 결과물 저장 주소\n",
    "RESULT_FOLDER = os.path.join(ROOT_PATH)\n",
    "RESULT_SAVE_LDAVIS = os.path.join(RESULT_FOLDER,\"Result_lda_vis.html\")\n",
    "RESULT_TOPIC_EXCEL = os.path.join(RESULT_FOLDER,\"Result_topic_excel.xlsx\")\n",
    "RESULT_corpus_EXCEL = os.path.join(RESULT_FOLDER,\"Result_corpus_excel.xlsx\")"
   ]
  },
  {
   "cell_type": "markdown",
   "metadata": {
    "id": "jdmkK2VQUh5U"
   },
   "source": [
    "###  Data Loading"
   ]
  },
  {
   "cell_type": "code",
   "execution_count": 5,
   "metadata": {
    "colab": {
     "base_uri": "https://localhost:8080/"
    },
    "id": "zpV4qAfAUh5U",
    "outputId": "ffd2f3ed-6ca0-491d-db71-6b03e7eed467",
    "scrolled": false
   },
   "outputs": [
    {
     "name": "stdout",
     "output_type": "stream",
     "text": [
      "Null값이 있는지 확인합니다. False\n",
      "\n",
      "중복 및, NULL값을 제거한 후, 다시 NULL값을 확인 합니다. False\n",
      "\n",
      "처리할 데이터수 :  4908\n"
     ]
    }
   ],
   "source": [
    "# 데이터 불러오기 \n",
    "DF_raw = pd.read_csv('/content/gdrive/MyDrive/텍데분/기말과제텍데분/인공지능youtube댓글.csv') # 엑셀파일의 sheet1시트의 텍스트 가져오기\n",
    "DF_raw = DF_raw.T.reset_index()\n",
    "\n",
    "# 불러온 데이터의 값이 비어 있는지 확인\n",
    "print('Null값이 있는지 확인합니다.',DF_raw.isnull().values.any()) # Null 값이 존재하는지 확인 (False=정상)\n",
    "print('')\n",
    "DF_raw = DF_raw.dropna(how = 'any') # Null 값이 존재하는 행 제거\n",
    "DF_raw = DF_raw.drop_duplicates()   # 중복 데이터 프레임 제거 \n",
    "DF_raw = DF_raw.reset_index(drop=True) # 데이터 프레임 재색인\n",
    "print('중복 및, NULL값을 제거한 후, 다시 NULL값을 확인 합니다.', DF_raw.isnull().values.any()) # Null 값이 존재하는지 확인 (False=정상)\n",
    "print('')\n",
    "print(\"처리할 데이터수 : \",len(DF_raw))\n"
   ]
  },
  {
   "cell_type": "code",
   "execution_count": 6,
   "metadata": {
    "id": "gSPECGVRqNlm"
   },
   "outputs": [],
   "source": [
    "# 공백 여러개 한개로 축소\n",
    "lst = []\n",
    "for i in DF_raw['index']:\n",
    "  j = ' '.join(i.split())\n",
    "  lst.append(j)\n",
    "df = pd.DataFrame(lst)\n",
    "\n",
    "# raw데이터로부터 텍스트만 불러오기 \n",
    "DF_only_text = df[0] #엑셀필드명"
   ]
  },
  {
   "cell_type": "markdown",
   "metadata": {
    "id": "ogRMt-VoUh5U"
   },
   "source": [
    "#### 토크나이징, 불용어 처리, 말뭉치 생성, 빈도 계수"
   ]
  },
  {
   "cell_type": "code",
   "execution_count": 7,
   "metadata": {
    "colab": {
     "base_uri": "https://localhost:8080/"
    },
    "id": "Cp4Uv9RmUh5U",
    "outputId": "cdf2af36-6bc6-4626-b7e0-d10123b91cb8"
   },
   "outputs": [
    {
     "name": "stdout",
     "output_type": "stream",
     "text": [
      "전체 워드의 개수 : 50283\n",
      "   text  count\n",
      "0    인간   2422\n",
      "1    지능   2032\n",
      "2    인공   1813\n",
      "3    로봇   1144\n",
      "4    생각    848\n",
      "5    사람    663\n",
      "6    우리    578\n",
      "7    인류    511\n",
      "8    영상    382\n",
      "9    지금    347\n",
      "10   발전    345\n",
      "11   기술    272\n",
      "12   기계    264\n",
      "13   개발    253\n",
      "14   미래    251\n",
      "15   존재    251\n",
      "16   때문    239\n",
      "17   지배    232\n",
      "18   감정    229\n",
      "19   그냥    227\n"
     ]
    }
   ],
   "source": [
    "tokenizer = Okt() # 토큰나이저 지정\n",
    "stopword_vocab = DATA_STOP_WORD_FILE_NAME # 불용어 파일 불러오기\n",
    "sep = \"\\n\" # 불용어 처리 인자\n",
    "\n",
    "def build_vocab(data_frame ,stopword_vocab, separate):\n",
    "    \n",
    "    # 불용어 데이터를 가져와 리스트로 변환합니다.\n",
    "    with open(stopword_vocab, encoding = 'utf-8') as f:\n",
    "        temp1 = []\n",
    "        for i in f:\n",
    "            temp1.append(i)\n",
    "            \n",
    "    globals()['stopword_vocab'] = []\n",
    "    \n",
    "    # 불용어 데이터는 전역변수 stopword_vocab 선언합니다. \n",
    "    # 구분자에 따라 stopword_vocab에 추가하여 불용어 사전을 구축합니다.\n",
    "    for j in range(len(temp1)):\n",
    "        temp2 = temp1[j].rstrip(separate)\n",
    "        globals()['stopword_vocab'].append(temp2)\n",
    "    \n",
    "    #okt token에서 명사만 출력합니다. 단어의 길이가 1 초과인 단어만 출력합니다. \n",
    "    globals()['list_sent2words'] =[]\n",
    "    for i in range(len(data_frame)) :\n",
    "        num_list=[]\n",
    "        temp = tokenizer.nouns(data_frame[i])\n",
    "        for j in range(len(temp)):\n",
    "\n",
    "            if len(temp[j]) > 1:\n",
    "                num_list.append(temp[j])\n",
    "        globals()['list_sent2words'].append(num_list)\n",
    "    \n",
    "    return [[word for word in doc if word not in globals()['stopword_vocab']] for doc in globals()['list_sent2words']]\n",
    "\n",
    "result_data =build_vocab(DF_only_text, stopword_vocab, sep)\n",
    "\n",
    "\n",
    "# 전체 에 대한 워드 카운트 계수 확인\n",
    "\n",
    "def word_corpus(result_data):\n",
    "    #전체 단어의 갯수 파악\n",
    "    words = list(itertools.chain(*result_data))\n",
    "    print('전체 워드의 개수 : {}'.format(len(words)))\n",
    "\n",
    "    #단어의 빈도수를 확인 후 추가할 불용어 확인 작업\n",
    "    vocab = Counter(words)\n",
    "    vocab_size = len(words)\n",
    "    vocab = vocab.most_common(vocab_size) # 등장 빈도수가 높은 상위 n개의 단어만 저장 vocab\n",
    "    return vocab\n",
    "\n",
    "vocab=word_corpus(result_data)\n",
    "\n",
    "# 전체 워드의 빈도 계수 \n",
    "df_corpus=pd.DataFrame(columns=[\"text\",\"count\"])\n",
    "tmp_list=[]\n",
    "tmp_list1=[]\n",
    "for word, num in vocab:\n",
    "    tmp_list.append(word)\n",
    "    tmp_list1.append(num)\n",
    "df_corpus['text']=tmp_list\n",
    "df_corpus['count']=tmp_list1\n",
    "#상위 20개의 워드 카운드 계수만 출력\n",
    "a=df_corpus.head(1000)\n",
    "print(df_corpus.head(20))\n",
    "\n",
    "#빈도분석한 결과를 별도의 파일에 저장함\n",
    "a.to_excel(RESULT_corpus_EXCEL ,sheet_name = \"sheet1\")\n",
    "\n",
    "\n",
    "# 토픽 모델링 딕셔너리 생성\n",
    "id2word = corpora.Dictionary(result_data)\n",
    " \n",
    "# 토픽모델링에 사용할 말뭉치 생성\n",
    "texts = result_data\n",
    " \n",
    "# 용어-문서 빈도\n",
    "corpus = [id2word.doc2bow(text) for text in texts]"
   ]
  },
  {
   "cell_type": "markdown",
   "metadata": {
    "id": "rSZO44JGqkEE"
   },
   "source": [
    "## 토픽 평가"
   ]
  },
  {
   "cell_type": "code",
   "execution_count": 9,
   "metadata": {
    "colab": {
     "base_uri": "https://localhost:8080/"
    },
    "id": "OZO2Jkx4qjzI",
    "outputId": "931ce03f-1d30-40fa-8971-8621038a2da7"
   },
   "outputs": [
    {
     "name": "stdout",
     "output_type": "stream",
     "text": [
      "NUM_TOPICS perplexity coherence\n",
      "T 1 -7.35504200688823 0.42890995669348797\n",
      "T 2 -7.436803054788707 0.45831673120516414\n",
      "T 3 -7.483759359050882 0.5101959364791475\n",
      "T 4 -7.622071253075235 0.45712721885261887\n",
      "T 5 -7.708812752360198 0.4701796975257852\n",
      "T 6 -7.76909957434572 0.4753548512571533\n",
      "T 7 -7.844696674299088 0.450147668785839\n",
      "T 8 -7.893171430957853 0.44297210775760054\n",
      "T 9 -7.9525679675308485 0.49178622034786884\n",
      "T 10 -8.014846039654863 0.48316880811450924\n",
      "T 11 -8.050217964879208 0.4692001603845932\n",
      "T 12 -8.09875468966639 0.4888218501755713\n",
      "T 13 -8.166823816894716 0.4782428972580959\n",
      "T 14 -8.185924271953334 0.450443512669671\n",
      "T 15 -8.215582061477244 0.47232773871054395\n",
      "T 16 -8.248506282299434 0.4850021923601196\n",
      "T 17 -8.235741272389413 0.478414332688415\n",
      "T 18 -8.235061379497688 0.4733943654690218\n",
      "T 19 -8.257809228138349 0.4726656352504689\n",
      "T 20 -8.254407783191477 0.486917996469925\n",
      "T 21 -8.266946583165701 0.4653705837066596\n",
      "T 22 -8.247318668040228 0.505799297003186\n",
      "T 23 -8.226720771846907 0.5111863281871564\n",
      "T 24 -8.257165044127094 0.5130729507753271\n",
      "T 25 -8.24014658668351 0.5027937293645467\n",
      "T 26 -8.254109638098088 0.502018609780922\n",
      "T 27 -8.225077952836145 0.5254421919391858\n",
      "T 28 -8.254503138294238 0.5055170838653242\n",
      "T 29 -8.245511254491777 0.517888218296085\n"
     ]
    }
   ],
   "source": [
    "# Perplexity와 Coherence Score 을 판단\n",
    "#print('토픽 기본 모델링을 실시 합니다. 해당 모델은 \"lda_model\" 변수로 입력됩니다.')\n",
    "#print(' ')\n",
    "\n",
    "#NUM_TOPICS = int(input('토픽의 개수를 입력해 주세요. '))\n",
    "#TOPICS_W_NUM = int(input('출력할 토픽별 단어의 개수를 입력해 주세요 '))\n",
    "#save_lda_model= int(input(\"선택한 토픽 모델을 저장하시겠습니까? \\n0 저장  \\n1 미저장  \"))\n",
    "\n",
    "TOPICS_W_NUM =20\n",
    "save_lda_model=0\n",
    "RANDOM_STATE = 100\n",
    "UPDATE_EVERY = 1\n",
    "CHUNKSIZE = 100\n",
    "PASSES = 10\n",
    "ALPHA = 'auto'\n",
    "PER_WORD_TOPICS = True\n",
    "print('NUM_TOPICS', 'perplexity', 'coherence')\n",
    "for i in range(1,30):\n",
    "  NUM_TOPICS=i\n",
    " \n",
    "  #해당 셀은 토픽모델링(LDA)에 대해 모델을 정의하는 셀입니다.\n",
    "  lda_model = gensim.models.ldamodel.LdaModel(corpus=corpus, id2word=id2word, \n",
    "                                              num_topics=NUM_TOPICS, random_state=RANDOM_STATE, \n",
    "                                              update_every=UPDATE_EVERY, chunksize=CHUNKSIZE,\n",
    "                                              passes=PASSES, alpha=ALPHA, per_word_topics=PER_WORD_TOPICS)\n",
    "\n",
    "  # 토픽 출력\n",
    " #  pprint(lda_model.print_topics(num_words=TOPICS_W_NUM))\n",
    "  doc_lda = lda_model[corpus]\n",
    "\n",
    "  # 모델 저장 \n",
    "  if save_lda_model == 0:\n",
    "      lda_model.save(LDA_MODEL_SAVE_NAME)\n",
    "  # 0번 토픽,- 중요단어들이 가중치 순으로 나옴(20개)\n",
    "  \"\"\"\n",
    "  해당 셀은 설계한 모델을 계산하는 셀입니다.\n",
    "  측정은 Perplexity와 Coherence Score입니다.\n",
    "  \"\"\"\n",
    "  #print('\\nNUM_TOPICS',NUM_TOPICS)\n",
    "  # Perplexity \n",
    "  #print('Perplexity: ', lda_model.log_perplexity(corpus)) # a measure of how good the model is. lower the better.\n",
    "  \n",
    "  # Coherence Score\n",
    "  coherence_model_lda = CoherenceModel(model=lda_model, texts=result_data, dictionary=id2word, coherence='c_v')\n",
    "  coherence_lda = coherence_model_lda.get_coherence()\n",
    "  #print('Coherence Score: ', coherence_lda)\n",
    " # print('NUM_TOPICS',NUM_TOPICS,'Perplexity: ', lda_model.log_perplexity(corpus),'Coherence: ', coherence_lda)\n",
    "\n",
    "  print('T',NUM_TOPICS, lda_model.log_perplexity(corpus), coherence_lda)"
   ]
  },
  {
   "cell_type": "code",
   "execution_count": 10,
   "metadata": {
    "colab": {
     "base_uri": "https://localhost:8080/"
    },
    "id": "_SIQkYUXqqar",
    "outputId": "2d950a60-14df-4a6c-a74b-cb29b38b08db"
   },
   "outputs": [
    {
     "name": "stdout",
     "output_type": "stream",
     "text": [
      "토픽 기본 모델링을 실시 합니다. 해당 모델은 \"lda_model\" 변수로 입력됩니다.\n",
      " \n",
      "토픽의 개수를 입력해 주세요. 10\n",
      "출력할 토픽별 단어의 개수를 입력해 주세요 10\n",
      "선택한 토픽 모델을 저장하시겠습니까? \n",
      "0 저장  \n",
      "1 미저장  0\n",
      "[(0,\n",
      "  '0.093*\"인류\" + 0.041*\"미래\" + 0.040*\"지구\" + 0.029*\"통제\" + 0.020*\"성인\" + '\n",
      "  '0.019*\"일자리\" + 0.019*\"이해\" + 0.018*\"멸망\" + 0.018*\"정치\" + 0.015*\"바로\"'),\n",
      " (1,\n",
      "  '0.072*\"우리\" + 0.048*\"기계\" + 0.032*\"모든\" + 0.021*\"노동\" + 0.021*\"수도\" + 0.019*\"이상\" '\n",
      "  '+ 0.017*\"가능성\" + 0.017*\"현재\" + 0.014*\"순간\" + 0.014*\"목적\"'),\n",
      " (2,\n",
      "  '0.133*\"인간\" + 0.114*\"지능\" + 0.106*\"인공\" + 0.041*\"사람\" + 0.041*\"생각\" + 0.018*\"지배\" '\n",
      "  '+ 0.017*\"발전\" + 0.015*\"때문\" + 0.015*\"지금\" + 0.014*\"존재\"'),\n",
      " (3,\n",
      "  '0.051*\"그냥\" + 0.030*\"대한\" + 0.028*\"감정\" + 0.028*\"어간\" + 0.019*\"선택\" + 0.016*\"멸종\" '\n",
      "  '+ 0.015*\"소름\" + 0.014*\"실제\" + 0.012*\"가능\" + 0.012*\"인식\"'),\n",
      " (4,\n",
      "  '0.063*\"리뷰\" + 0.046*\"영화\" + 0.041*\"기술\" + 0.023*\"우주\" + 0.017*\"항상\" + '\n",
      "  '0.015*\"하나님\" + 0.014*\"역사\" + 0.014*\"컴퓨터\" + 0.013*\"필요\" + 0.013*\"상상\"'),\n",
      " (5,\n",
      "  '0.017*\"경우\" + 0.016*\"시간\" + 0.016*\"이유\" + 0.016*\"자기\" + 0.015*\"전쟁\" + 0.014*\"현실\" '\n",
      "  '+ 0.013*\"머리\" + 0.011*\"인정\" + 0.011*\"유튜버\" + 0.011*\"세계\"'),\n",
      " (6,\n",
      "  '0.033*\"빅스\" + 0.032*\"러닝\" + 0.026*\"알파\" + 0.025*\"게임\" + 0.019*\"이제\" + 0.018*\"직업\" '\n",
      "  '+ 0.018*\"사회\" + 0.017*\"알파스\" + 0.015*\"분야\" + 0.014*\"연구\"'),\n",
      " (7,\n",
      "  '0.058*\"영상\" + 0.032*\"학습\" + 0.029*\"정도\" + 0.025*\"튜버\" + 0.025*\"해결\" + '\n",
      "  '0.022*\"알고리즘\" + 0.021*\"광고\" + 0.020*\"의식\" + 0.019*\"요가\" + 0.018*\"중국어\"'),\n",
      " (8,\n",
      "  '0.084*\"과학\" + 0.042*\"데이터\" + 0.025*\"방송\" + 0.016*\"모두\" + 0.015*\"생산\" + '\n",
      "  '0.013*\"스타\" + 0.013*\"노지\" + 0.012*\"터미네이터\" + 0.011*\"우리나라\" + 0.011*\"유투\"'),\n",
      " (9,\n",
      "  '0.135*\"로봇\" + 0.013*\"이기\" + 0.011*\"더욱\" + 0.011*\"나중\" + 0.011*\"발달\" + 0.010*\"해도\" '\n",
      "  '+ 0.010*\"분명\" + 0.009*\"소득\" + 0.009*\"원칙\" + 0.009*\"해킹\"')]\n"
     ]
    }
   ],
   "source": [
    "print('토픽 기본 모델링을 실시 합니다. 해당 모델은 \"lda_model\" 변수로 입력됩니다.')\n",
    "print(' ')\n",
    "\n",
    "NUM_TOPICS = int(input('토픽의 개수를 입력해 주세요. '))\n",
    "TOPICS_W_NUM = int(input('출력할 토픽별 단어의 개수를 입력해 주세요 '))\n",
    "save_lda_model= int(input(\"선택한 토픽 모델을 저장하시겠습니까? \\n0 저장  \\n1 미저장  \"))\n",
    "\n",
    "RANDOM_STATE = 100\n",
    "UPDATE_EVERY = 1\n",
    "CHUNKSIZE = 100\n",
    "PASSES = 10\n",
    "ALPHA = 'auto'\n",
    "PER_WORD_TOPICS = True\n",
    "\n",
    "#해당 셀은 토픽모델링(LDA)에 대해 모델을 정의하는 셀입니다.\n",
    "lda_model = gensim.models.ldamodel.LdaModel(corpus=corpus, id2word=id2word, \n",
    "                                            num_topics=NUM_TOPICS, random_state=RANDOM_STATE, \n",
    "                                            update_every=UPDATE_EVERY, chunksize=CHUNKSIZE,\n",
    "                                            passes=PASSES, alpha=ALPHA, per_word_topics=PER_WORD_TOPICS)\n",
    "\n",
    "# 토픽 출력\n",
    "pprint(lda_model.print_topics(num_words=TOPICS_W_NUM))\n",
    "doc_lda = lda_model[corpus]\n",
    "\n",
    "# 모델 저장 \n",
    "if save_lda_model == 0:\n",
    "    lda_model.save(LDA_MODEL_SAVE_NAME)\n",
    "# 0번 토픽,- 중요단어들이 가중치 순으로 나옴(20개)"
   ]
  },
  {
   "cell_type": "code",
   "execution_count": 11,
   "metadata": {
    "colab": {
     "base_uri": "https://localhost:8080/"
    },
    "id": "2f0HIUk9qsvP",
    "outputId": "2e77632f-d84c-4cb9-ef82-1ae365a5f495"
   },
   "outputs": [
    {
     "name": "stdout",
     "output_type": "stream",
     "text": [
      "\n",
      "Perplexity:  -8.014846039654863\n",
      "\n",
      "Coherence Score:  0.48316880811450924\n"
     ]
    }
   ],
   "source": [
    "#토픽평가\n",
    "\"\"\"\n",
    "해당 셀은 설계한 모델을 계산하는 셀입니다.\n",
    "측정은 Perplexity와 Coherence Score입니다.\n",
    "\"\"\"\n",
    "\n",
    "# Perplexity \n",
    "print('\\nPerplexity: ', lda_model.log_perplexity(corpus)) # a measure of how good the model is. lower the better.\n",
    " \n",
    "# Coherence Score\n",
    "coherence_model_lda = CoherenceModel(model=lda_model, texts=result_data, dictionary=id2word, coherence='c_v')\n",
    "coherence_lda = coherence_model_lda.get_coherence()\n",
    "print('\\nCoherence Score: ', coherence_lda)\n",
    "# Perplexity는 작을 수록 Coherence Score는 높을 수록 좋다.모델 1개의 값\n",
    "# 토픽의 개수를 다르게 하여 판단비교해보세요. 동시에 높아지니 믿어도 되겠다. 하나만 선택해라면 코히어런스를 써\n",
    "# 젠심 코히러런스로 검색해봐서 coherence='c_v'값을 바꿔가면서 해보세요"
   ]
  },
  {
   "cell_type": "markdown",
   "metadata": {
    "id": "DEHC_fA5qt7F"
   },
   "source": [
    "## 토픽별 키워드 조회"
   ]
  },
  {
   "cell_type": "code",
   "execution_count": 12,
   "metadata": {
    "colab": {
     "base_uri": "https://localhost:8080/"
    },
    "id": "oa7ut--gqwOr",
    "outputId": "2cd0652b-7eb9-45e7-cedc-e9c0abed0546"
   },
   "outputs": [
    {
     "name": "stdout",
     "output_type": "stream",
     "text": [
      "Topic ID: 0\n",
      "\t인류\t0.09306986629962921\n",
      "\t미래\t0.041264209896326065\n",
      "\t지구\t0.040372442454099655\n",
      "\t통제\t0.02925962768495083\n",
      "\t성인\t0.02026754431426525\n",
      "\t일자리\t0.01919453591108322\n",
      "\t이해\t0.019129598513245583\n",
      "\t멸망\t0.018323823809623718\n",
      "\t정치\t0.017702670767903328\n",
      "\t바로\t0.015266627073287964\n",
      "\n",
      "\n",
      "Topic ID: 1\n",
      "\t우리\t0.07180473953485489\n",
      "\t기계\t0.04772644117474556\n",
      "\t모든\t0.03188513219356537\n",
      "\t노동\t0.02061033435165882\n",
      "\t수도\t0.02050262689590454\n",
      "\t이상\t0.019054433330893517\n",
      "\t가능성\t0.01740073226392269\n",
      "\t현재\t0.01720268838107586\n",
      "\t순간\t0.014296635054051876\n",
      "\t목적\t0.013745257630944252\n",
      "\n",
      "\n",
      "Topic ID: 2\n",
      "\t인간\t0.1331428438425064\n",
      "\t지능\t0.11422157287597656\n",
      "\t인공\t0.10601508617401123\n",
      "\t사람\t0.04132993519306183\n",
      "\t생각\t0.04112826660275459\n",
      "\t지배\t0.017502959817647934\n",
      "\t발전\t0.017072120681405067\n",
      "\t때문\t0.015356146730482578\n",
      "\t지금\t0.01462211087346077\n",
      "\t존재\t0.01353777851909399\n",
      "\n",
      "\n",
      "Topic ID: 3\n",
      "\t그냥\t0.0505078062415123\n",
      "\t대한\t0.029581066220998764\n",
      "\t감정\t0.028111327439546585\n",
      "\t어간\t0.028024805709719658\n",
      "\t선택\t0.019038613885641098\n",
      "\t멸종\t0.01568235643208027\n",
      "\t소름\t0.014841709285974503\n",
      "\t실제\t0.01369439996778965\n",
      "\t가능\t0.01178752351552248\n",
      "\t인식\t0.011515680700540543\n",
      "\n",
      "\n",
      "Topic ID: 4\n",
      "\t리뷰\t0.06334094703197479\n",
      "\t영화\t0.04616006091237068\n",
      "\t기술\t0.04056843742728233\n",
      "\t우주\t0.02260001003742218\n",
      "\t항상\t0.01735053025186062\n",
      "\t하나님\t0.014543703757226467\n",
      "\t역사\t0.013797513209283352\n",
      "\t컴퓨터\t0.01359153538942337\n",
      "\t필요\t0.01321137510240078\n",
      "\t상상\t0.013101805001497269\n",
      "\n",
      "\n",
      "Topic ID: 5\n",
      "\t경우\t0.017138363793492317\n",
      "\t시간\t0.016249382868409157\n",
      "\t이유\t0.01567092165350914\n",
      "\t자기\t0.015623589046299458\n",
      "\t전쟁\t0.01544628944247961\n",
      "\t현실\t0.013853764161467552\n",
      "\t머리\t0.013366149738430977\n",
      "\t인정\t0.011401426047086716\n",
      "\t유튜버\t0.0108221136033535\n",
      "\t세계\t0.010814094915986061\n",
      "\n",
      "\n",
      "Topic ID: 6\n",
      "\t빅스\t0.03296199068427086\n",
      "\t러닝\t0.0323202982544899\n",
      "\t알파\t0.026458360254764557\n",
      "\t게임\t0.024724116548895836\n",
      "\t이제\t0.01866375282406807\n",
      "\t직업\t0.0178711898624897\n",
      "\t사회\t0.0177255030721426\n",
      "\t알파스\t0.017080573365092278\n",
      "\t분야\t0.014963091351091862\n",
      "\t연구\t0.01448881160467863\n",
      "\n",
      "\n",
      "Topic ID: 7\n",
      "\t영상\t0.05847017467021942\n",
      "\t학습\t0.03152604401111603\n",
      "\t정도\t0.029356256127357483\n",
      "\t튜버\t0.02500796690583229\n",
      "\t해결\t0.024774812161922455\n",
      "\t알고리즘\t0.02210046723484993\n",
      "\t광고\t0.02083824947476387\n",
      "\t의식\t0.020203618332743645\n",
      "\t요가\t0.01872347481548786\n",
      "\t중국어\t0.01801113970577717\n",
      "\n",
      "\n",
      "Topic ID: 8\n",
      "\t과학\t0.08443957567214966\n",
      "\t데이터\t0.04218824580311775\n",
      "\t방송\t0.02460225112736225\n",
      "\t모두\t0.015595071949064732\n",
      "\t생산\t0.014742071740329266\n",
      "\t스타\t0.013048587366938591\n",
      "\t노지\t0.012984789907932281\n",
      "\t터미네이터\t0.012384689413011074\n",
      "\t우리나라\t0.011049272492527962\n",
      "\t유투\t0.010646334849298\n",
      "\n",
      "\n",
      "Topic ID: 9\n",
      "\t로봇\t0.1345089226961136\n",
      "\t이기\t0.013186002150177956\n",
      "\t더욱\t0.010821662843227386\n",
      "\t나중\t0.010610667988657951\n",
      "\t발달\t0.010509868152439594\n",
      "\t해도\t0.010289963334798813\n",
      "\t분명\t0.009639404714107513\n",
      "\t소득\t0.009241457097232342\n",
      "\t원칙\t0.008705883286893368\n",
      "\t해킹\t0.008684679865837097\n",
      "\n",
      "\n"
     ]
    }
   ],
   "source": [
    "for topic_id in range(NUM_TOPICS):\n",
    "    topic_word_probs = lda_model.show_topic(topic_id, TOPICS_W_NUM)\n",
    "    print(\"Topic ID: {}\".format(topic_id))\n",
    "\n",
    "    for topic_word, prob in topic_word_probs:\n",
    "        print(\"\\t{}\\t{}\".format(topic_word, prob))\n",
    "    print(\"\\n\")"
   ]
  },
  {
   "cell_type": "markdown",
   "metadata": {
    "id": "G3pUXFezq1H8"
   },
   "source": [
    "## 시각화"
   ]
  },
  {
   "cell_type": "code",
   "execution_count": 13,
   "metadata": {
    "colab": {
     "base_uri": "https://localhost:8080/",
     "height": 918
    },
    "id": "g7oeaa1zq2v2",
    "outputId": "95336601-1fb1-4f48-9aac-88b509fafdaf"
   },
   "outputs": [
    {
     "name": "stderr",
     "output_type": "stream",
     "text": [
      "/usr/local/lib/python3.7/dist-packages/pyLDAvis/_prepare.py:247: FutureWarning: In a future version of pandas all arguments of DataFrame.drop except for the argument 'labels' will be keyword-only\n",
      "  by='saliency', ascending=False).head(R).drop('saliency', 1)\n"
     ]
    },
    {
     "data": {
      "text/html": [
       "\n",
       "<link rel=\"stylesheet\" type=\"text/css\" href=\"https://cdn.jsdelivr.net/gh/bmabey/pyLDAvis@3.3.1/pyLDAvis/js/ldavis.v1.0.0.css\">\n",
       "\n",
       "\n",
       "<div id=\"ldavis_el1261405111584867362621341728\"></div>\n",
       "<script type=\"text/javascript\">\n",
       "\n",
       "var ldavis_el1261405111584867362621341728_data = {\"mdsDat\": {\"x\": [-0.043991759622917695, -0.04699785610580496, 0.42539747072224254, -0.055799693371692105, -0.04783564134191079, -0.03750122162426885, -0.05098853664640236, -0.04111176222703835, -0.04626338139024852, -0.05490761839195931], \"y\": [0.09897016407000118, 0.03269129804951449, 0.0019134902698888458, 0.006861212027399971, 0.035401760911875815, 0.09720181971008544, 0.006293729418484771, -0.3210734879898789, 0.02437011024721537, 0.017369903285413168], \"topics\": [1, 2, 3, 4, 5, 6, 7, 8, 9, 10], \"cluster\": [1, 1, 1, 1, 1, 1, 1, 1, 1, 1], \"Freq\": [7.99408429826559, 8.914793719262018, 31.498207783922194, 5.843324006123981, 7.677296777439241, 9.589525189382277, 6.731836334203842, 8.168875535322496, 6.438187281490998, 7.143869074587365]}, \"tinfo\": {\"Term\": [\"\\uc778\\uac04\", \"\\uc9c0\\ub2a5\", \"\\uc778\\uacf5\", \"\\ub85c\\ubd07\", \"\\uc778\\ub958\", \"\\uc6b0\\ub9ac\", \"\\uacfc\\ud559\", \"\\uc0ac\\ub78c\", \"\\uc0dd\\uac01\", \"\\ub9ac\\ubdf0\", \"\\uc601\\uc0c1\", \"\\uae30\\uacc4\", \"\\uc601\\ud654\", \"\\uadf8\\ub0e5\", \"\\ubbf8\\ub798\", \"\\uc9c0\\uad6c\", \"\\uae30\\uc220\", \"\\ub370\\uc774\\ud130\", \"\\ubaa8\\ub4e0\", \"\\ud559\\uc2b5\", \"\\uc9c0\\ubc30\", \"\\ube45\\uc2a4\", \"\\uc815\\ub3c4\", \"\\ud1b5\\uc81c\", \"\\ub7ec\\ub2dd\", \"\\ubc1c\\uc804\", \"\\ud29c\\ubc84\", \"\\ud574\\uacb0\", \"\\uc9c0\\uae08\", \"\\ub300\\ud55c\", \"\\uc778\\ub958\", \"\\ubbf8\\ub798\", \"\\uc9c0\\uad6c\", \"\\ud1b5\\uc81c\", \"\\uc77c\\uc790\\ub9ac\", \"\\uc774\\ud574\", \"\\uba78\\ub9dd\", \"\\uc131\\uc778\", \"\\uc815\\uce58\", \"\\ubc14\\ub85c\", \"\\uc815\\ubcf4\", \"\\uc124\\uba85\", \"\\uacb0\\ub860\", \"\\ubb54\\uac00\", \"\\ud2b8\\ub860\", \"\\ub3c4\\uc6c0\", \"\\uc804\\uccb4\", \"\\uc0c1\\uc704\", \"\\uc790\\uc5f0\", \"\\ucc98\\ub9ac\", \"\\ub144\\ub3c4\", \"\\uc815\\ubcf5\", \"\\uc810\\uc810\", \"\\ub9e4\\ud2b8\\ub9ad\\uc2a4\", \"\\uc804\\ubb38\\uac00\", \"\\uc2dc\\ubbac\\ub808\\uc774\\uc158\", \"\\ud604\\ub300\", \"\\ub2f9\\uc2e0\", \"\\uac04\\ub2e4\", \"\\ub178\\ub825\", \"\\uc6b0\\ub9ac\", \"\\uae30\\uacc4\", \"\\ubaa8\\ub4e0\", \"\\ub178\\ub3d9\", \"\\uc218\\ub3c4\", \"\\uc774\\uc0c1\", \"\\uac00\\ub2a5\\uc131\", \"\\ud604\\uc7ac\", \"\\uc21c\\uac04\", \"\\ubaa9\\uc801\", \"\\uc0ac\\uace0\", \"\\ucc98\\ub7fc\", \"\\uadf8\\uac8c\", \"\\uc808\\ub300\", \"\\ub3d9\\ubb3c\", \"\\uc5ed\\ud560\", \"\\ud55c\\uacc4\", \"\\ud2b9\\uc815\", \"\\uace0\\ub3c4\", \"\\ubb38\\uba85\", \"\\uc560\\ucd08\", \"\\uc804\\uc138\\uacc4\", \"\\uac1c\\ub150\", \"\\uc8fc\\uc81c\", \"\\uc695\\uad6c\", \"\\uc138\\ub825\", \"\\uc774\\uba74\", \"\\uc2e4\\uc218\", \"\\uc74c\\uc2dd\", \"\\uc81c\\uacf5\", \"\\ud589\\ub3d9\", \"\\uc778\\uac04\", \"\\uc9c0\\ub2a5\", \"\\uc778\\uacf5\", \"\\uc0ac\\ub78c\", \"\\uc0dd\\uac01\", \"\\uc9c0\\ubc30\", \"\\ubc1c\\uc804\", \"\\uc9c0\\uae08\", \"\\uc874\\uc7ac\", \"\\uac1c\\ubc1c\", \"\\uc2a4\\uc2a4\\ub85c\", \"\\uc704\\ud574\", \"\\ud558\\ub098\", \"\\uc138\\uc0c1\", \"\\ub300\\uccb4\", \"\\ud310\\ub2e8\", \"\\uac00\\uc9c0\", \"\\uccb4\\ub77c\", \"\\uc790\\uc2e0\", \"\\uc790\\uccb4\", \"\\uc2dc\\ub300\", \"\\uadf8\\uac83\", \"\\uc9c4\\ud654\", \"\\ud2b9\\uc774\\uc810\", \"\\uc218\\uc900\", \"\\uc790\\uc544\", \"\\ub2e4\\ub978\", \"\\ub300\\ud574\", \"\\uac1c\\uc778\", \"\\ud1b5\\ud574\", \"\\ub54c\\ubb38\", \"\\uadf8\\ub0e5\", \"\\ub300\\ud55c\", \"\\uac10\\uc815\", \"\\uc120\\ud0dd\", \"\\uba78\\uc885\", \"\\uc18c\\ub984\", \"\\uc2e4\\uc81c\", \"\\uac00\\ub2a5\", \"\\uc778\\uc2dd\", \"\\ub9c8\\uc9c0\\ub9c9\", \"\\ub300\\ud654\", \"\\uc5bc\\ub9c8\", \"\\uc758\\uc9c0\", \"\\uc218\\uc9d1\", \"\\ubc18\\uc751\", \"\\uac70\\uc758\", \"\\uac74\\uac00\", \"\\uc778\\ud130\\ub137\", \"\\uc720\\ube44\", \"\\uc5b4\\uac04\", \"\\ud558\\uc774\", \"\\uc790\\uafb8\", \"\\uc81c\\ubc1c\", \"\\ub300\\ub85c\", \"\\uc624\\ub984\", \"\\uac10\\uc131\", \"\\ubc8c\\uc368\", \"\\uc218\\ub2e8\", \"\\uc6b4\\ub3d9\", \"\\uc2a4\\ud53c\\ucee4\", \"\\ub9ac\\ubdf0\", \"\\uc601\\ud654\", \"\\uc6b0\\uc8fc\", \"\\ud56d\\uc0c1\", \"\\ud558\\ub098\\ub2d8\", \"\\uc5ed\\uc0ac\", \"\\ucef4\\ud4e8\\ud130\", \"\\ud544\\uc694\", \"\\uc0c1\\uc0c1\", \"\\uc774\\uc57c\\uae30\", \"\\ud30c\\uad34\", \"\\ubc18\\ub780\", \"\\uad8c\\ub825\", \"\\uacfc\\ud559\\uc720\\ud29c\\ubc84\", \"\\uae30\\uc220\", \"\\uc5f0\\uc0b0\", \"\\uc601\\uc5ed\", \"\\ub313\\uae00\", \"\\uc724\\ub9ac\", \"\\uc2dc\\uc2a4\\ud15c\", \"\\uc0dd\\uba85\\uccb4\", \"\\ubc29\\ud5a5\", \"\\ub3c4\\ub355\", \"\\uc608\\uc804\", \"\\uad00\\ub828\", \"\\uc18d\\ub3c4\", \"\\ud558\\ub298\", \"\\uc5f0\\uacb0\", \"\\ud655\\ub960\", \"\\ud1b5\\uacc4\", \"\\uacbd\\uc6b0\", \"\\uc2dc\\uac04\", \"\\uc774\\uc720\", \"\\uc790\\uae30\", \"\\uc804\\uc7c1\", \"\\ud604\\uc2e4\", \"\\uba38\\ub9ac\", \"\\uc778\\uc815\", \"\\uc720\\ud29c\\ubc84\", \"\\uc138\\uacc4\", \"\\uacf5\\ubd80\", \"\\uc0dd\\uc874\", \"\\uad6d\\uac00\", \"\\ub9c8\\uc74c\", \"\\ub2e4\\uc2dc\", \"\\uc5ed\\uc2dc\", \"\\uc18c\\uc218\", \"\\uc5ec\\uae30\", \"\\ub098\\ub77c\", \"\\uace0\\ubbfc\", \"\\uae30\\uc5b5\", \"\\uac70\\ub098\", \"\\uc704\\ud611\", \"\\uad73\\uc774\", \"\\ub204\\uad6c\", \"\\uc5b4\\ub514\", \"\\ub204\\uad70\\uac00\", \"\\ubcf8\\ub2a5\", \"\\uc81c\\ub300\\ub85c\", \"\\uacf5\\uaca9\", \"\\ub610\\ud55c\", \"\\ube45\\uc2a4\", \"\\ub7ec\\ub2dd\", \"\\uc54c\\ud30c\", \"\\uac8c\\uc784\", \"\\uc774\\uc81c\", \"\\uc9c1\\uc5c5\", \"\\uc0ac\\ud68c\", \"\\uc54c\\ud30c\\uc2a4\", \"\\ubd84\\uc57c\", \"\\uc5f0\\uad6c\", \"\\uc778\\uc9c0\", \"\\uc5bc\\ub9c8\\ub098\", \"\\uc0b0\\uc5c5\", \"\\uba38\\uc2e0\", \"\\uac71\\uc815\", \"\\uc790\\uc728\", \"\\ubc14\\ub451\", \"\\uae30\\uc5c5\", \"\\ubd84\\uc11d\", \"\\uc544\\uc774\", \"\\ud734\\uba3c\", \"\\uc0c1\\ud0dc\", \"\\ucf54\\ub85c\\ub098\", \"\\uad6c\\uae00\", \"\\uc598\\uae30\", \"\\ud0c0\\uac00\", \"\\uc774\\uc138\\ub3cc\", \"\\uce5c\\uad6c\", \"\\uc704\\ud5d8\", \"\\uc77c\\ub8e8\\ubbf8\\ub098\\ud2f0\", \"\\uc601\\uc0c1\", \"\\ud559\\uc2b5\", \"\\uc815\\ub3c4\", \"\\ud29c\\ubc84\", \"\\ud574\\uacb0\", \"\\uc54c\\uace0\\ub9ac\\uc998\", \"\\uad11\\uace0\", \"\\uc758\\uc2dd\", \"\\uc694\\uac00\", \"\\ub2a5\\ub825\", \"\\uc0ac\\uc2e4\", \"\\ucd94\\ucc9c\", \"\\ubd80\\ubd84\", \"\\uc18c\\ud53c\\uc544\", \"\\uc911\\uad6d\", \"\\uc18c\\ub9ac\", \"\\uc720\\ud29c\\ube0c\", \"\\ud55c\\ubc88\", \"\\uc911\\uad6d\\uc5b4\", \"\\uc0c1\\ud669\", \"\\uc774\\uac74\", \"\\ucc44\\ub110\", \"\\ub9d0\\uc500\", \"\\uac1c\\ubc1c\\uc790\", \"\\ub4f1\\uc7a5\", \"\\uc5b8\\uc81c\", \"\\uc800\\ub7f0\", \"\\uacc4\\uc0b0\", \"\\uc544\\uc8fc\", \"\\ucd5c\\uace0\", \"\\uacfc\\ud559\", \"\\ub370\\uc774\\ud130\", \"\\ubc29\\uc1a1\", \"\\ubaa8\\ub450\", \"\\uc0dd\\uc0b0\", \"\\uc2a4\\ud0c0\", \"\\ud130\\ubbf8\\ub124\\uc774\\ud130\", \"\\ub178\\uc9c0\", \"\\uc6b0\\ub9ac\\ub098\\ub77c\", \"\\uc720\\ud22c\", \"\\uc81c\\uc77c\", \"\\ud658\\uacbd\", \"\\uc9d0\\uc2b9\", \"\\ub3c4\\uc785\", \"\\ubd80\\uc5c9\\uc774\", \"\\uc288\\ud37c\", \"\\uc124\\uc815\", \"\\uac70\\uae30\", \"\\ud569\\ub9ac\", \"\\uc624\\ub298\", \"\\uc8fc\\ud589\", \"\\ub3d9\\uc601\\uc0c1\", \"\\ub300\\ube44\", \"\\uc758\\ubbf8\", \"\\uacf5\\uac04\", \"\\uc77c\\uc9c0\", \"\\uae30\\ubc18\", \"\\ud55c\\uad6d\", \"\\uc544\\uc774\\ub85c\\ubd07\", \"\\ube48\\ubbfc\", \"\\ub85c\\ubd07\", \"\\uc774\\uae30\", \"\\ub354\\uc6b1\", \"\\ub098\\uc911\", \"\\ubc1c\\ub2ec\", \"\\ud574\\ub3c4\", \"\\ubd84\\uba85\", \"\\uc18c\\ub4dd\", \"\\uc6d0\\uce59\", \"\\ud574\\ud0b9\", \"\\ud2f0\\ube44\", \"\\uc815\\ub2f5\", \"\\uc0ac\\ub791\", \"\\ucc3d\\uc870\\uc8fc\", \"\\uc2e0\\uacbd\", \"\\ubcc0\\ud654\", \"\\ubc29\\uc2dd\", \"\\uc778\\uad6c\", \"\\uc5bc\\uad74\", \"\\uc601\\ud63c\", \"\\uc790\\uc720\", \"\\ud639\\uc2dc\", \"\\uac80\\uc0c9\", \"\\uc99d\\uac00\", \"\\ucee8\\ud2b8\\ub864\", \"\\ud55c\\uac00\\uc9c0\", \"\\uac1c\\ubbf8\", \"\\ud589\\uc131\", \"\\ucd08\\uc6d4\", \"\\uc2e0\\uccb4\", \"\\uc2dc\\ub0c5\\uc2a4\"], \"Freq\": [2109.0, 1809.0, 1680.0, 484.0, 375.0, 322.0, 274.0, 655.0, 652.0, 245.0, 241.0, 214.0, 179.0, 149.0, 166.0, 163.0, 160.0, 137.0, 143.0, 130.0, 278.0, 112.0, 121.0, 118.0, 110.0, 271.0, 103.0, 102.0, 232.0, 87.0, 374.1097220400036, 165.86831708574627, 162.28371034674447, 117.61391323987061, 77.15561201371167, 76.89458540197433, 73.65564069963254, 81.46874677387858, 71.15881330510084, 61.3667327348348, 54.60939069393275, 46.46061426513563, 40.22226317870675, 35.535992063784136, 33.446693524395805, 31.773814902349702, 29.504978676029594, 29.217333159970206, 29.12745294425151, 28.620950656513223, 27.510136909639158, 27.39959948077806, 25.731458391032014, 23.63140073048181, 21.766954346398254, 21.63665442602235, 21.369795277482567, 21.205980732123464, 19.183599134547446, 19.128107675611286, 321.87377265707096, 213.93977300000196, 142.9291138341994, 92.38841497742447, 91.90560276542423, 85.41389303529529, 78.00097009008293, 77.11321348604119, 64.08646408243398, 61.614845461111116, 52.759631142120796, 51.687754633316004, 50.41541399311624, 46.79288628205148, 44.20937963570641, 41.324312614768814, 38.93547969309113, 38.585412659689865, 37.85053615252187, 33.79697382097725, 33.165345651215944, 32.81239385137722, 30.768945957949416, 28.73276007786164, 28.485601138068727, 30.83921152076979, 27.14711543356346, 27.02655432276148, 25.27630891332158, 24.672134034577255, 46.866049135620905, 2108.748587523222, 1809.0690025942408, 1679.0926653112074, 654.5935316087493, 651.3994553048312, 277.21611564488023, 270.39238035830226, 231.58854241167546, 214.41462220239399, 195.9364762947836, 181.23310492667213, 158.9739450121362, 152.97283114143158, 143.29602193383923, 140.66441223018433, 137.90267349192533, 119.087352959797, 107.19407251487222, 106.53585295290725, 100.24964114740015, 98.02462198719843, 94.57838564626407, 89.44279506143347, 87.87685099300934, 84.79633889646101, 81.58661967243427, 75.74519486641155, 72.71695121626081, 71.46410155823183, 67.48426537295353, 243.2143812870688, 148.4019660835687, 86.91504764735586, 82.59666320290327, 55.9392288515771, 46.077877867346636, 43.607889591314525, 40.23686694759709, 34.63408520645855, 33.835357025390685, 33.792392641083815, 33.195819536447644, 31.900268629772842, 31.27686775469246, 29.365022431509658, 28.68038889432911, 27.349417887630867, 26.51908963586842, 26.067757001638935, 27.17594860450463, 82.34244517660709, 22.778927925937886, 22.680768769727216, 20.373469686892243, 18.121623966771658, 17.88717787594514, 16.508210225673725, 16.428353552390035, 15.90930706733159, 15.594478912368128, 14.60410484013897, 244.51981716218194, 178.19515153113053, 87.24451687506856, 66.97955562158248, 56.14415240401689, 53.26357696426079, 52.468425309420475, 51.00086398880805, 50.577882295372945, 48.2541075172742, 47.78345274899889, 40.53741861263142, 38.935768679708275, 44.6451335132176, 156.60938724624597, 35.279765151369276, 34.19367471558676, 33.819505792672416, 32.77727386669199, 31.98675649491872, 25.89768424891803, 25.329846155906257, 24.679380126053243, 23.948561955465607, 21.9788981753541, 21.768018521903727, 20.90226685419486, 20.26026764871957, 19.534669787684575, 19.217649232879012, 82.63948368733054, 78.35290571954185, 75.56362303748797, 75.33538989378577, 74.48046876557291, 66.80146959909001, 64.45024114908807, 54.97654260473055, 52.18315538155663, 52.144490065316425, 51.53043005633043, 51.29440097894728, 50.75292488475692, 47.12384141360525, 42.08555311471735, 38.65175418967736, 38.08377371726985, 37.14853112026809, 35.80873075972029, 35.669522149019926, 33.95950699890368, 32.02521954235861, 31.592843857622103, 31.574703492354704, 31.003875887485368, 30.215887071223964, 27.29675449148304, 27.27781028282342, 26.869464575694504, 25.42708212236215, 34.68351616818782, 111.5753379470862, 109.40322879551952, 89.56074884065052, 83.69038720049495, 63.17623596002745, 60.49343469552631, 60.0002893880722, 57.8172221524506, 50.649610618591396, 49.04418825458041, 38.70187223309209, 34.43652943716644, 33.92235381362189, 33.26337448613763, 32.16062743191045, 30.030083970293155, 28.949959243792698, 27.010059963745313, 24.727090057323863, 24.58673452847088, 23.274834975215107, 22.334242975514027, 20.83778829113486, 20.31058496840822, 20.262986972981537, 27.793058573945455, 18.120823402668496, 17.931232155527344, 17.897522491315833, 17.32724343195905, 240.16949837937904, 129.49498130869102, 120.58245675115171, 102.72161663852464, 101.76392054465408, 90.77889983535928, 85.59427009899878, 82.98748734360944, 76.90771542444207, 72.01927570263739, 67.06355380202963, 59.858607179257845, 51.83832893180797, 50.97642616517236, 50.19253216531823, 49.897543344993935, 45.39271303449332, 41.499975345063206, 73.98175929480571, 35.92060793618996, 35.016169887196405, 34.6934694394415, 31.70926877868356, 30.67165501382283, 29.721879533507646, 28.028712104059142, 27.805429606260123, 26.826607413206037, 24.386591732114056, 24.002448669232603, 273.35739603630407, 136.57658656240153, 79.64520488495441, 50.48614023768952, 47.724710966849905, 42.24237078627351, 40.09312483761921, 42.03583839753426, 35.76996133164146, 34.465525774717214, 33.2221798102229, 28.872550780488865, 27.10276159002491, 26.549527222098305, 26.201996122492517, 25.83143658013775, 24.59448841029037, 23.03978511630053, 22.616205584424666, 22.58370707900555, 22.349141375173346, 21.23146142377129, 19.657943126249766, 19.06378940443613, 18.246338479022594, 16.877866183453822, 16.72552962773817, 16.717259528437246, 16.213296018248762, 16.701403731053524, 483.1764535186333, 47.366119862590665, 38.87305443355584, 38.115128910861245, 37.75304060918568, 36.96310914761727, 34.62620390110251, 33.1967156979865, 31.27285333190628, 31.196687427198405, 30.577986233151538, 28.639531005634336, 27.82658618005285, 27.556191698344165, 27.538490912039013, 26.930396473422213, 26.26943218480098, 26.090164468952434, 25.24353763306661, 23.287684382646376, 23.23381758795872, 22.630090636871945, 21.857645852683422, 21.496261768644835, 20.861321750798083, 20.378750342338606, 20.020649819395942, 19.97550461796051, 19.846851917497297, 18.770389186704996, 26.047729083602274], \"Total\": [2109.0, 1809.0, 1680.0, 484.0, 375.0, 322.0, 274.0, 655.0, 652.0, 245.0, 241.0, 214.0, 179.0, 149.0, 166.0, 163.0, 160.0, 137.0, 143.0, 130.0, 278.0, 112.0, 121.0, 118.0, 110.0, 271.0, 103.0, 102.0, 232.0, 87.0, 375.0543377839616, 166.8129592218223, 163.22832579343662, 118.55872177881902, 78.10041173166601, 77.83928756286012, 74.60027425553693, 82.51642079434518, 72.1038386430644, 62.3115243493389, 55.55412294744369, 47.40552603458963, 41.16695242463748, 36.4807675668237, 34.39235578422463, 32.7184750757384, 30.449918507403137, 30.163977280089593, 30.072082494386965, 29.565830537497103, 28.45497583184925, 28.34419886921067, 26.676092882673643, 24.576059623964813, 22.711826315874635, 22.581495662507432, 22.315257676730656, 22.150633857917718, 20.128375650249033, 20.07281548436271, 322.80500974910524, 214.87101670298796, 143.86039395557225, 93.32012373936143, 92.83685939899785, 86.3451554902819, 78.93229351514637, 78.04452700033073, 65.01774080811091, 62.546152248348186, 53.69089253517095, 52.6190908280216, 51.34668378618947, 47.72418632588782, 45.14058310461988, 42.256045319450415, 39.866897986993386, 39.51674592022585, 38.782009770065095, 34.728327914168496, 34.09663884507758, 33.743833671125394, 31.700211262074387, 29.66413151642889, 29.41692526078573, 31.873123897674688, 28.078426296873324, 27.957909095228644, 26.20914181832671, 25.60350796617322, 52.70852444807562, 2109.6646128073903, 1809.985007875652, 1680.0086730687437, 655.5095891923274, 652.315486475269, 278.1321570082816, 271.3084445557876, 232.5045745188645, 215.33066602637672, 196.85248187479047, 182.14911150057017, 159.89003175541876, 153.88891015035483, 144.21207504365458, 141.5806232135351, 138.8187439012176, 120.00346369410207, 108.11419500027185, 107.45189973831224, 101.16567253165, 98.94065480164339, 95.49444350194536, 90.35879267226639, 88.79288328424028, 85.71234647930834, 82.50267371407318, 76.66128602802769, 73.6330799312646, 72.38025892854837, 68.40046234790863, 253.69878484392942, 149.3425697800868, 87.85574751587869, 83.58286155274848, 56.87994346741876, 47.018764752268766, 44.54843430206956, 41.17749189201611, 35.574789131011435, 34.77601820304091, 34.73297639761018, 34.136472109251166, 32.84096859678325, 32.21775805715555, 30.30620033515754, 29.621104331174433, 28.290224982417907, 27.459698974240776, 27.008408837873567, 28.182831601235435, 85.51032133881519, 23.72041436786128, 23.62160397312611, 21.314032812738542, 19.062497251322544, 18.82796692437418, 17.448920407084152, 17.369010052517403, 16.85040563740505, 16.53520795481202, 15.54757180610117, 245.4653596797347, 179.14031618425727, 88.18965273189006, 67.92490345699872, 57.08925152738215, 54.20887492044204, 53.413586524489595, 51.946065481772635, 51.52310844705548, 49.19925200977007, 48.72876653567398, 41.48275564783044, 39.8814409353144, 45.802285301002385, 160.69473590146967, 36.22572354682417, 35.13905261617001, 34.76467837123054, 33.72248040586949, 32.93186375041755, 26.842878815752197, 26.27522469225734, 25.624597858501794, 24.8937894633566, 22.924397148339253, 22.713128393843643, 21.847333355076, 21.206216100803495, 20.479968402911865, 20.167403955915802, 83.57799743602861, 79.29131318698268, 76.5019636368759, 76.27371329908605, 75.41883629106736, 67.73980404326076, 65.38861091122708, 55.91513544037237, 53.121911076357584, 53.08283196732409, 52.468961063756154, 52.23283631108519, 51.69138812882831, 48.062544767201324, 43.023974741596945, 39.59018334585638, 39.0223316758804, 38.08687187851505, 36.74723915639551, 36.608181130938846, 34.898018005606254, 32.96664217530953, 32.53119346400745, 32.51310368186173, 31.942271822931332, 31.154297635082656, 28.235159620003813, 28.216205317601613, 27.80788011870146, 26.36557860156036, 40.025479084029584, 112.5360152150101, 110.36370993788765, 90.5211553620325, 84.6507287299586, 64.13651915655923, 61.45383048509433, 60.960614745312, 58.8804603218479, 51.6100926236037, 50.004555156844326, 39.66223947179366, 35.39684716838416, 34.882866000380886, 34.22370104455063, 33.120852027081646, 30.990388754528094, 29.9102568674272, 27.970305303077648, 25.687434225402754, 25.547029578871673, 24.235082914034262, 23.29516806924001, 21.797974499598297, 21.270822722324276, 21.223255587031712, 29.231366397412398, 19.081084411081058, 18.891638548072677, 18.85792631853408, 18.28901753610327, 241.12249935698676, 130.4480165471852, 121.53548469549455, 103.67577662464616, 102.71715380210661, 91.73207011919904, 86.54797140795685, 83.94061005117706, 77.86873847639481, 72.97229936927674, 68.01654814389163, 60.81203228878574, 52.79137629351113, 51.929505394599296, 51.1455807259037, 50.85059246123805, 46.34573630419731, 42.453006232588045, 75.76330391183053, 36.873657234263405, 35.969172570087316, 35.64658671208832, 32.663940524718896, 31.62457328502175, 30.674913387288264, 28.981682232582322, 28.758385399762197, 27.779727495615877, 25.339647139206168, 24.95548327511305, 274.31744970276407, 137.53664280620876, 80.60633034512952, 51.446162096299304, 48.68477720135683, 43.20298889485676, 41.053006083650295, 43.13016772732533, 36.73045322149936, 35.42825307255638, 34.182075536512585, 29.832543796777056, 28.06269366086857, 27.509643451356187, 27.16925347334391, 26.79185279180226, 25.554531361511806, 24.000045785257658, 23.5762836181723, 23.543735457092033, 23.309379590823323, 22.19153758311857, 20.617967795698416, 20.02366072965564, 19.206480248106132, 17.83777535879621, 17.68568054542186, 17.67717363966388, 17.173250339654803, 17.695160492365094, 484.1041654875387, 48.29398664582033, 39.80097697581251, 39.04301852625877, 38.68082690578592, 37.89091339897863, 35.55415282531648, 34.138614239639715, 32.20072265308389, 32.124566499253255, 31.50577413203736, 29.568246161037358, 28.754476461342804, 28.48441132675267, 28.467185073719214, 27.858177139548637, 27.19766837941973, 27.017991009000347, 26.171293878606605, 24.21562767131858, 24.161721251504687, 23.55800718387094, 22.785524939359405, 22.426430623124087, 21.789304248674657, 21.306741927185115, 20.94848243257091, 20.90334473141788, 20.774753224301637, 19.698161244615882, 27.416418646995364], \"Category\": [\"Default\", \"Default\", \"Default\", \"Default\", \"Default\", \"Default\", \"Default\", \"Default\", \"Default\", \"Default\", \"Default\", \"Default\", \"Default\", \"Default\", \"Default\", \"Default\", \"Default\", \"Default\", \"Default\", \"Default\", \"Default\", \"Default\", \"Default\", \"Default\", \"Default\", \"Default\", \"Default\", \"Default\", \"Default\", \"Default\", \"Topic1\", \"Topic1\", \"Topic1\", \"Topic1\", \"Topic1\", \"Topic1\", \"Topic1\", \"Topic1\", \"Topic1\", \"Topic1\", \"Topic1\", \"Topic1\", \"Topic1\", \"Topic1\", \"Topic1\", \"Topic1\", \"Topic1\", \"Topic1\", \"Topic1\", \"Topic1\", \"Topic1\", \"Topic1\", \"Topic1\", \"Topic1\", \"Topic1\", \"Topic1\", \"Topic1\", \"Topic1\", \"Topic1\", \"Topic1\", \"Topic2\", \"Topic2\", \"Topic2\", \"Topic2\", \"Topic2\", \"Topic2\", \"Topic2\", \"Topic2\", \"Topic2\", \"Topic2\", \"Topic2\", \"Topic2\", \"Topic2\", \"Topic2\", \"Topic2\", \"Topic2\", \"Topic2\", \"Topic2\", \"Topic2\", \"Topic2\", \"Topic2\", \"Topic2\", \"Topic2\", \"Topic2\", \"Topic2\", \"Topic2\", \"Topic2\", \"Topic2\", \"Topic2\", \"Topic2\", \"Topic2\", \"Topic3\", \"Topic3\", \"Topic3\", \"Topic3\", \"Topic3\", \"Topic3\", \"Topic3\", \"Topic3\", \"Topic3\", \"Topic3\", \"Topic3\", \"Topic3\", \"Topic3\", \"Topic3\", \"Topic3\", \"Topic3\", \"Topic3\", \"Topic3\", \"Topic3\", \"Topic3\", \"Topic3\", \"Topic3\", \"Topic3\", \"Topic3\", \"Topic3\", \"Topic3\", \"Topic3\", \"Topic3\", \"Topic3\", \"Topic3\", \"Topic3\", \"Topic4\", \"Topic4\", \"Topic4\", \"Topic4\", \"Topic4\", \"Topic4\", \"Topic4\", \"Topic4\", \"Topic4\", \"Topic4\", \"Topic4\", \"Topic4\", \"Topic4\", \"Topic4\", \"Topic4\", \"Topic4\", \"Topic4\", \"Topic4\", \"Topic4\", \"Topic4\", \"Topic4\", \"Topic4\", \"Topic4\", \"Topic4\", \"Topic4\", \"Topic4\", \"Topic4\", \"Topic4\", \"Topic4\", \"Topic4\", \"Topic5\", \"Topic5\", \"Topic5\", \"Topic5\", \"Topic5\", \"Topic5\", \"Topic5\", \"Topic5\", \"Topic5\", \"Topic5\", \"Topic5\", \"Topic5\", \"Topic5\", \"Topic5\", \"Topic5\", \"Topic5\", \"Topic5\", \"Topic5\", \"Topic5\", \"Topic5\", \"Topic5\", \"Topic5\", \"Topic5\", \"Topic5\", \"Topic5\", \"Topic5\", \"Topic5\", \"Topic5\", \"Topic5\", \"Topic5\", \"Topic6\", \"Topic6\", \"Topic6\", \"Topic6\", \"Topic6\", \"Topic6\", \"Topic6\", \"Topic6\", \"Topic6\", \"Topic6\", \"Topic6\", \"Topic6\", \"Topic6\", \"Topic6\", \"Topic6\", \"Topic6\", \"Topic6\", \"Topic6\", \"Topic6\", \"Topic6\", \"Topic6\", \"Topic6\", \"Topic6\", \"Topic6\", \"Topic6\", \"Topic6\", \"Topic6\", \"Topic6\", \"Topic6\", \"Topic6\", \"Topic6\", \"Topic7\", \"Topic7\", \"Topic7\", \"Topic7\", \"Topic7\", \"Topic7\", \"Topic7\", \"Topic7\", \"Topic7\", \"Topic7\", \"Topic7\", \"Topic7\", \"Topic7\", \"Topic7\", \"Topic7\", \"Topic7\", \"Topic7\", \"Topic7\", \"Topic7\", \"Topic7\", \"Topic7\", \"Topic7\", \"Topic7\", \"Topic7\", \"Topic7\", \"Topic7\", \"Topic7\", \"Topic7\", \"Topic7\", \"Topic7\", \"Topic8\", \"Topic8\", \"Topic8\", \"Topic8\", \"Topic8\", \"Topic8\", \"Topic8\", \"Topic8\", \"Topic8\", \"Topic8\", \"Topic8\", \"Topic8\", \"Topic8\", \"Topic8\", \"Topic8\", \"Topic8\", \"Topic8\", \"Topic8\", \"Topic8\", \"Topic8\", \"Topic8\", \"Topic8\", \"Topic8\", \"Topic8\", \"Topic8\", \"Topic8\", \"Topic8\", \"Topic8\", \"Topic8\", \"Topic8\", \"Topic9\", \"Topic9\", \"Topic9\", \"Topic9\", \"Topic9\", \"Topic9\", \"Topic9\", \"Topic9\", \"Topic9\", \"Topic9\", \"Topic9\", \"Topic9\", \"Topic9\", \"Topic9\", \"Topic9\", \"Topic9\", \"Topic9\", \"Topic9\", \"Topic9\", \"Topic9\", \"Topic9\", \"Topic9\", \"Topic9\", \"Topic9\", \"Topic9\", \"Topic9\", \"Topic9\", \"Topic9\", \"Topic9\", \"Topic9\", \"Topic10\", \"Topic10\", \"Topic10\", \"Topic10\", \"Topic10\", \"Topic10\", \"Topic10\", \"Topic10\", \"Topic10\", \"Topic10\", \"Topic10\", \"Topic10\", \"Topic10\", \"Topic10\", \"Topic10\", \"Topic10\", \"Topic10\", \"Topic10\", \"Topic10\", \"Topic10\", \"Topic10\", \"Topic10\", \"Topic10\", \"Topic10\", \"Topic10\", \"Topic10\", \"Topic10\", \"Topic10\", \"Topic10\", \"Topic10\", \"Topic10\"], \"logprob\": [30.0, 29.0, 28.0, 27.0, 26.0, 25.0, 24.0, 23.0, 22.0, 21.0, 20.0, 19.0, 18.0, 17.0, 16.0, 15.0, 14.0, 13.0, 12.0, 11.0, 10.0, 9.0, 8.0, 7.0, 6.0, 5.0, 4.0, 3.0, 2.0, 1.0, -2.3744, -3.1878, -3.2096, -3.5315, -3.9531, -3.9565, -3.9996, -3.8987, -4.034, -4.1821, -4.2987, -4.4603, -4.6045, -4.7284, -4.789, -4.8403, -4.9144, -4.9242, -4.9273, -4.9448, -4.9844, -4.9884, -5.0512, -5.1364, -5.2186, -5.2246, -5.237, -5.2447, -5.3449, -5.3478, -2.6338, -3.0423, -3.4456, -3.882, -3.8872, -3.9605, -4.0512, -4.0627, -4.2477, -4.2871, -4.4422, -4.4627, -4.4877, -4.5622, -4.619, -4.6865, -4.7461, -4.7551, -4.7743, -4.8876, -4.9065, -4.9172, -4.9815, -5.0499, -5.0586, -4.9792, -5.1067, -5.1111, -5.1781, -5.2023, -4.5607, -2.0163, -2.1696, -2.2442, -3.1862, -3.1911, -4.0454, -4.0703, -4.2252, -4.3023, -4.3924, -4.4704, -4.6014, -4.6399, -4.7053, -4.7238, -4.7436, -4.8903, -4.9955, -5.0017, -5.0625, -5.085, -5.1208, -5.1766, -5.1942, -5.2299, -5.2685, -5.3428, -5.3836, -5.401, -5.4583, -4.1762, -2.9856, -3.5206, -3.5716, -3.9613, -4.1552, -4.2103, -4.2908, -4.4407, -4.464, -4.4653, -4.4831, -4.5229, -4.5427, -4.6057, -4.6293, -4.6769, -4.7077, -4.7249, -4.6832, -3.5747, -4.8597, -4.864, -4.9713, -5.0884, -5.1015, -5.1817, -5.1865, -5.2186, -5.2386, -5.3042, -2.7592, -3.0756, -3.7898, -4.0541, -4.2306, -4.2833, -4.2983, -4.3267, -4.335, -4.382, -4.3918, -4.5563, -4.5966, -4.4598, -3.2048, -4.6952, -4.7265, -4.7375, -4.7688, -4.7932, -5.0044, -5.0265, -5.0526, -5.0826, -5.1684, -5.1781, -5.2187, -5.2499, -5.2863, -5.3027, -4.0664, -4.1197, -4.1559, -4.159, -4.1704, -4.2792, -4.315, -4.474, -4.5262, -4.5269, -4.5388, -4.5433, -4.554, -4.6281, -4.7412, -4.8263, -4.8411, -4.866, -4.9027, -4.9066, -4.9558, -5.0144, -5.028, -5.0286, -5.0468, -5.0726, -5.1742, -5.1748, -5.1899, -5.2451, -4.9347, -3.4124, -3.4321, -3.6322, -3.7, -3.9812, -4.0246, -4.0328, -4.0698, -4.2022, -4.2344, -4.4712, -4.588, -4.603, -4.6226, -4.6564, -4.7249, -4.7615, -4.8309, -4.9192, -4.9249, -4.9797, -5.021, -5.0903, -5.116, -5.1183, -4.8023, -5.23, -5.2406, -5.2424, -5.2748, -2.8392, -3.4569, -3.5282, -3.6886, -3.6979, -3.8122, -3.871, -3.9019, -3.978, -4.0436, -4.1149, -4.2286, -4.3725, -4.3892, -4.4047, -4.4106, -4.5052, -4.5949, -4.0168, -4.7393, -4.7648, -4.774, -4.864, -4.8972, -4.9287, -4.9874, -4.9954, -5.0312, -5.1265, -5.1424, -2.4717, -3.1656, -3.7049, -4.1608, -4.217, -4.3391, -4.3913, -4.344, -4.5054, -4.5425, -4.5793, -4.7196, -4.7829, -4.8035, -4.8167, -4.8309, -4.88, -4.9453, -4.9638, -4.9653, -4.9757, -5.027, -5.104, -5.1347, -5.1785, -5.2565, -5.2656, -5.2661, -5.2967, -5.267, -2.0061, -4.3286, -4.5262, -4.5459, -4.5554, -4.5766, -4.6419, -4.6841, -4.7438, -4.7462, -4.7662, -4.8317, -4.8605, -4.8703, -4.8709, -4.8933, -4.9181, -4.9249, -4.9579, -5.0386, -5.0409, -5.0672, -5.102, -5.1186, -5.1486, -5.172, -5.1897, -5.192, -5.1985, -5.2542, -4.9266], \"loglift\": [30.0, 29.0, 28.0, 27.0, 26.0, 25.0, 24.0, 23.0, 22.0, 21.0, 20.0, 19.0, 18.0, 17.0, 16.0, 15.0, 14.0, 13.0, 12.0, 11.0, 10.0, 9.0, 8.0, 7.0, 6.0, 5.0, 4.0, 3.0, 2.0, 1.0, 2.5239, 2.5208, 2.5207, 2.5185, 2.5143, 2.5143, 2.5137, 2.5137, 2.5133, 2.5112, 2.5093, 2.5063, 2.5033, 2.5002, 2.4986, 2.4972, 2.4949, 2.4946, 2.4946, 2.494, 2.4927, 2.4926, 2.4904, 2.4873, 2.484, 2.4837, 2.4832, 2.4829, 2.4784, 2.4783, 2.4146, 2.4131, 2.411, 2.4074, 2.4074, 2.4066, 2.4056, 2.4055, 2.403, 2.4025, 2.4, 2.3996, 2.3992, 2.3978, 2.3966, 2.3952, 2.3938, 2.3936, 2.3931, 2.3903, 2.3898, 2.3895, 2.3876, 2.3856, 2.3853, 2.3845, 2.3837, 2.3836, 2.3812, 2.3804, 2.3, 1.1548, 1.1547, 1.1547, 1.1538, 1.1538, 1.1519, 1.1519, 1.1513, 1.151, 1.1506, 1.1502, 1.1495, 1.1493, 1.1489, 1.1487, 1.1486, 1.1476, 1.1467, 1.1467, 1.1461, 1.1459, 1.1456, 1.1451, 1.1449, 1.1445, 1.1441, 1.1432, 1.1427, 1.1425, 1.1418, 1.113, 2.8336, 2.8291, 2.828, 2.8232, 2.8197, 2.8185, 2.8168, 2.8131, 2.8124, 2.8124, 2.8119, 2.8108, 2.8102, 2.8083, 2.8076, 2.806, 2.805, 2.8044, 2.8035, 2.8021, 2.7994, 2.7992, 2.7947, 2.7893, 2.7886, 2.7845, 2.7842, 2.7824, 2.7813, 2.7773, 2.563, 2.5616, 2.5561, 2.5529, 2.5502, 2.5493, 2.549, 2.5485, 2.5484, 2.5475, 2.5473, 2.5439, 2.5429, 2.5413, 2.5412, 2.5404, 2.5396, 2.5393, 2.5385, 2.5378, 2.5311, 2.5303, 2.5293, 2.5282, 2.5248, 2.5244, 2.5227, 2.5213, 2.5196, 2.5187, 2.3332, 2.3326, 2.3322, 2.3321, 2.332, 2.3305, 2.33, 2.3276, 2.3267, 2.3267, 2.3264, 2.3264, 2.3262, 2.3248, 2.3224, 2.3205, 2.3202, 2.3196, 2.3186, 2.3185, 2.3172, 2.3155, 2.3152, 2.3152, 2.3147, 2.3139, 2.3107, 2.3107, 2.3102, 2.3083, 2.2012, 2.6897, 2.6896, 2.6877, 2.6869, 2.6832, 2.6826, 2.6824, 2.6801, 2.6795, 2.6789, 2.6738, 2.6708, 2.6704, 2.6699, 2.6689, 2.6668, 2.6657, 2.6634, 2.6602, 2.66, 2.6579, 2.6562, 2.6533, 2.6521, 2.652, 2.6479, 2.6467, 2.6461, 2.6461, 2.6443, 2.5009, 2.4975, 2.497, 2.4956, 2.4955, 2.4944, 2.4938, 2.4934, 2.4924, 2.4917, 2.4907, 2.489, 2.4866, 2.4863, 2.486, 2.4859, 2.4841, 2.4821, 2.481, 2.4787, 2.478, 2.4777, 2.4752, 2.4742, 2.4733, 2.4714, 2.4711, 2.4699, 2.4665, 2.4659, 2.7394, 2.7359, 2.7309, 2.7241, 2.723, 2.7204, 2.7193, 2.7172, 2.7164, 2.7154, 2.7144, 2.7102, 2.7081, 2.7074, 2.7067, 2.7064, 2.7046, 2.7021, 2.7013, 2.7013, 2.7009, 2.6987, 2.6952, 2.6938, 2.6916, 2.6876, 2.6871, 2.6871, 2.6854, 2.6851, 2.637, 2.6195, 2.6153, 2.6149, 2.6146, 2.6141, 2.6125, 2.6109, 2.6097, 2.6096, 2.609, 2.607, 2.6061, 2.6058, 2.6057, 2.605, 2.6042, 2.604, 2.6028, 2.5998, 2.5998, 2.5987, 2.5973, 2.5966, 2.5954, 2.5944, 2.5936, 2.5935, 2.5932, 2.5907, 2.5877]}, \"token.table\": {\"Topic\": [4, 2, 3, 1, 4, 4, 2, 10, 3, 8, 3, 9, 6, 4, 7, 4, 10, 7, 1, 6, 8, 2, 6, 9, 6, 6, 9, 5, 5, 8, 7, 6, 6, 5, 3, 2, 4, 2, 9, 5, 7, 6, 7, 6, 10, 1, 2, 1, 9, 6, 6, 8, 3, 6, 1, 4, 9, 3, 4, 3, 4, 5, 10, 9, 5, 1, 9, 2, 9, 8, 3, 6, 2, 6, 7, 10, 5, 6, 4, 8, 1, 6, 7, 1, 4, 9, 2, 2, 2, 1, 1, 7, 1, 5, 4, 10, 3, 9, 10, 5, 4, 10, 6, 8, 9, 10, 7, 7, 7, 9, 2, 3, 10, 8, 7, 7, 5, 1, 7, 8, 3, 5, 9, 6, 4, 1, 9, 1, 6, 2, 3, 10, 4, 8, 6, 8, 5, 4, 2, 3, 4, 2, 9, 3, 9, 4, 6, 10, 3, 1, 5, 10, 10, 2, 4, 7, 9, 8, 8, 7, 7, 2, 7, 3, 4, 6, 8, 10, 4, 7, 6, 5, 6, 2, 5, 7, 5, 8, 5, 10, 5, 5, 9, 4, 8, 2, 2, 9, 5, 4, 10, 3, 7, 6, 4, 9, 6, 8, 5, 2, 9, 8, 4, 8, 10, 2, 2, 7, 5, 6, 7, 1, 3, 3, 10, 1, 4, 6, 7, 4, 7, 1, 9, 6, 4, 3, 3, 1, 10, 7, 3, 8, 1, 2, 6, 1, 2, 1, 10, 8, 1, 1, 1, 2, 6, 4, 9, 3, 2, 9, 8, 8, 10, 1, 3, 3, 3, 7, 3, 9, 10, 8, 2, 1, 3, 10, 8, 8, 7, 10, 5, 7, 7, 9, 5, 1, 3, 8, 1, 3, 2, 10, 5, 3, 5, 3, 5, 5, 4, 8, 10, 2, 9, 8, 9, 5, 8, 10, 10, 2, 8, 10, 1, 6, 2, 10, 5, 9, 7], \"Freq\": [0.9838427958379554, 0.9881886934532382, 0.9916380439096327, 0.9439410477101726, 0.9742723104575631, 0.9930265422609318, 0.9779114638610592, 0.95472309578396, 0.9956694380143366, 0.9802503806330388, 0.9809304505264216, 0.9583315051060466, 0.9706781731008838, 0.9543932583349984, 0.9661587200062013, 0.9832591400702532, 0.965525264770069, 0.9923127805309926, 0.9716531743083541, 0.9930843349474721, 0.9719317802617419, 0.9798357595518757, 0.9833867427402764, 0.937183688394697, 0.9482060066954289, 0.9910621240777703, 0.9951973536346609, 0.9824837277063809, 0.9596762722981258, 0.9936685817236096, 0.9402551213503126, 0.9866246940959451, 0.9842185573274576, 0.977898468193663, 0.9948222798750036, 0.9737727212959431, 0.9910101333995807, 0.9959463276324887, 0.9612296205587997, 0.977007735314148, 0.018668937617467796, 0.9742673636805967, 0.965309448982994, 0.9796654340965515, 0.9732854024706804, 0.9840106758642894, 0.9858538149494049, 0.9465538112877855, 0.9737963521387072, 0.9705007887931479, 0.9562545550786, 0.9866757745380008, 0.9913739246718882, 0.9761999037107343, 0.948054134012674, 0.9442624312379204, 0.9700277058426998, 0.9958989923878256, 0.9902596296762027, 0.9914022348127285, 0.9667079800861093, 0.978004158040382, 0.9798754443565726, 0.996098183035012, 0.9756250669005304, 0.9780406918698004, 0.9814740073873599, 0.9747326457441542, 0.946306668537245, 0.9779978714603984, 0.9578287895603792, 0.03941682261565347, 0.1249204285476006, 0.8744429998332042, 0.9876434931495585, 0.9977191572263653, 0.9981041737199015, 0.9778924571649726, 0.9788968158323278, 0.9796735937534404, 0.9765601307622528, 0.978763719065507, 0.9642440470433726, 0.9919534577918475, 0.9783328048357628, 0.9718897962963241, 0.9940192437131935, 0.9912680120404591, 0.979027843898256, 0.9868213417948771, 0.9951265223900185, 0.9695670661919829, 0.9789521382595928, 0.988362498096105, 0.9790316956373312, 0.9823988533791121, 0.9951772803904798, 0.9924778817924917, 0.9559642994865692, 0.9514666493933688, 0.9211808820204475, 0.9691947848830952, 0.9568969213290021, 0.9850093642357189, 0.9569640927200639, 0.9844138368859715, 0.9732385017759797, 0.9881788116899315, 0.9952369451327561, 0.9607146545709471, 0.9871320348284698, 0.9992226060446265, 0.9737614258998207, 0.985054399677251, 0.9842420430088286, 0.9746905543721308, 0.9898471101060795, 0.961411677602015, 0.9444018576989703, 0.9763067376606301, 0.9979833585089676, 0.9685995372725235, 0.9859344698544138, 0.9763972933856638, 0.9845298111464755, 0.9703510085814874, 0.9783000770522055, 0.9816227996834165, 0.9796010889548876, 0.9726062653765046, 0.9915951903244741, 0.9666473210761547, 0.9876890330566773, 0.9832727128619704, 0.9738013688066646, 0.982100630700481, 0.9686028106089984, 0.9495320376432189, 0.9909856989517368, 0.991689103045612, 0.9568998976871987, 0.984346721441543, 0.9704442690859906, 0.9936913691694479, 0.9721549613665741, 0.9647808794241238, 0.9837143170534011, 0.9483368464264901, 0.9904927372521516, 0.9742490191438956, 0.9717032793078487, 0.9835886452239875, 0.9645570347431941, 0.965737455831698, 0.9714044775941195, 0.9785873509410234, 0.9316815211768242, 0.9471323680299624, 0.9920194745605571, 0.9942427230413909, 0.9850466467647299, 0.9678373328802203, 0.94236249089988, 0.011694494703601073, 0.958948565695288, 0.9629490079152736, 0.9661274930590924, 0.9552450908984648, 0.9743926981232331, 0.9605375257932067, 0.9714633461634281, 0.9776996862189778, 0.9850926847016446, 0.9702753698327691, 0.9431196921190579, 0.9799107270588961, 0.9661642770160315, 0.9953446925940955, 0.9675844244120044, 0.9497998694141474, 0.993634508364469, 0.9640958856556472, 0.9769053021308798, 0.9560246240234087, 0.9888435527094335, 0.9518329924618408, 0.9975062042880595, 0.9801131443411701, 0.9865102912298931, 0.9676322211202512, 0.9627113134689572, 0.9944334756479364, 0.9545057975069673, 0.9836712580313057, 0.958030065325885, 0.959686042954719, 0.9788804458720443, 0.9709631044511977, 0.9785757038873173, 0.9538656463188269, 0.9488774433668082, 0.9887943386329503, 0.9622022719583654, 0.9730554666444204, 0.9732060503658518, 0.9615923525958642, 0.9844211816789965, 0.9433426115733111, 0.9756245885703319, 0.9934385522539196, 0.982279687586647, 0.9892176869915164, 0.9996849675520196, 0.9993996024634199, 0.9623217355923603, 0.9971888399153274, 0.9776852485379406, 0.9836334932721702, 0.9833030237169381, 0.9626631526526847, 0.9295195855349422, 0.9859102953842707, 0.9530336411382664, 0.9833007566566014, 0.973684937998567, 0.9957943997322263, 0.9939071827439765, 0.9643495759035953, 0.9519189365934623, 0.9680420674173251, 0.9884775882719969, 0.9736290689056393, 0.9686583409905218, 0.9779564563299192, 0.9811872423277445, 0.9852243116087896, 0.9848255909290382, 0.9746554757607411, 0.9807818780342087, 0.9955940053488395, 0.9900255297348873, 0.952575873623621, 0.9846909864462454, 0.9764287000449094, 0.9709477991399229, 0.938348935450958, 0.9654182632868529, 0.993820359863589, 0.9776116312031224, 0.9438260642793422, 0.9776015696831555, 0.9767261481378561, 0.9363951113266646, 0.9924748000234281, 0.9978298297144964, 0.9994557922461424, 0.9959294278645822, 0.9763427198334372, 0.9849622529022187, 0.962131444910065, 0.9829938094491105, 0.9818611886374788, 0.9882344826130689, 0.98086201107121, 0.9896942764983909, 0.9627069830415431, 0.9617124916163852, 0.9866468483584049, 0.9528024768310188, 0.9637756102872047, 0.9735350756901247, 0.9633922638264852, 0.9578751680413612, 0.9743500858011549, 0.9421143168219546, 0.9952873835814343, 0.9795255426668699, 0.9934818272247645, 0.9595155448797932, 0.9910704185412909, 0.9869233686076018, 0.9839466210251583, 0.9850444288356766, 0.9941020651951712, 0.9817875430410682, 0.9942236893517127, 0.9809201995429961, 0.9612157080544051, 0.9696289298876091, 0.9888996660469618, 0.9386700260579093, 0.9782551933868491, 0.9616921995864517, 0.9657737728954356, 0.9755566387177278, 0.9863834409778109, 0.9930181690636769, 0.9764874129689719, 0.9649935665504032, 0.8916963715480364, 0.09486131612213153, 0.956784680010556, 0.9410601618056982, 0.989078739543027, 0.9866162684242252, 0.9763134810378621, 0.9765640066688959, 0.9720927654561258, 0.949037396801352], \"Term\": [\"\\uac00\\ub2a5\", \"\\uac00\\ub2a5\\uc131\", \"\\uac00\\uc9c0\", \"\\uac04\\ub2e4\", \"\\uac10\\uc131\", \"\\uac10\\uc815\", \"\\uac1c\\ub150\", \"\\uac1c\\ubbf8\", \"\\uac1c\\ubc1c\", \"\\uac1c\\ubc1c\\uc790\", \"\\uac1c\\uc778\", \"\\uac70\\uae30\", \"\\uac70\\ub098\", \"\\uac70\\uc758\", \"\\uac71\\uc815\", \"\\uac74\\uac00\", \"\\uac80\\uc0c9\", \"\\uac8c\\uc784\", \"\\uacb0\\ub860\", \"\\uacbd\\uc6b0\", \"\\uacc4\\uc0b0\", \"\\uace0\\ub3c4\", \"\\uace0\\ubbfc\", \"\\uacf5\\uac04\", \"\\uacf5\\uaca9\", \"\\uacf5\\ubd80\", \"\\uacfc\\ud559\", \"\\uacfc\\ud559\\uc720\\ud29c\\ubc84\", \"\\uad00\\ub828\", \"\\uad11\\uace0\", \"\\uad6c\\uae00\", \"\\uad6d\\uac00\", \"\\uad73\\uc774\", \"\\uad8c\\ub825\", \"\\uadf8\\uac83\", \"\\uadf8\\uac8c\", \"\\uadf8\\ub0e5\", \"\\uae30\\uacc4\", \"\\uae30\\ubc18\", \"\\uae30\\uc220\", \"\\uae30\\uc220\", \"\\uae30\\uc5b5\", \"\\uae30\\uc5c5\", \"\\ub098\\ub77c\", \"\\ub098\\uc911\", \"\\ub144\\ub3c4\", \"\\ub178\\ub3d9\", \"\\ub178\\ub825\", \"\\ub178\\uc9c0\", \"\\ub204\\uad6c\", \"\\ub204\\uad70\\uac00\", \"\\ub2a5\\ub825\", \"\\ub2e4\\ub978\", \"\\ub2e4\\uc2dc\", \"\\ub2f9\\uc2e0\", \"\\ub300\\ub85c\", \"\\ub300\\ube44\", \"\\ub300\\uccb4\", \"\\ub300\\ud55c\", \"\\ub300\\ud574\", \"\\ub300\\ud654\", \"\\ub313\\uae00\", \"\\ub354\\uc6b1\", \"\\ub370\\uc774\\ud130\", \"\\ub3c4\\ub355\", \"\\ub3c4\\uc6c0\", \"\\ub3c4\\uc785\", \"\\ub3d9\\ubb3c\", \"\\ub3d9\\uc601\\uc0c1\", \"\\ub4f1\\uc7a5\", \"\\ub54c\\ubb38\", \"\\ub54c\\ubb38\", \"\\ub610\\ud55c\", \"\\ub610\\ud55c\", \"\\ub7ec\\ub2dd\", \"\\ub85c\\ubd07\", \"\\ub9ac\\ubdf0\", \"\\ub9c8\\uc74c\", \"\\ub9c8\\uc9c0\\ub9c9\", \"\\ub9d0\\uc500\", \"\\ub9e4\\ud2b8\\ub9ad\\uc2a4\", \"\\uba38\\ub9ac\", \"\\uba38\\uc2e0\", \"\\uba78\\ub9dd\", \"\\uba78\\uc885\", \"\\ubaa8\\ub450\", \"\\ubaa8\\ub4e0\", \"\\ubaa9\\uc801\", \"\\ubb38\\uba85\", \"\\ubb54\\uac00\", \"\\ubbf8\\ub798\", \"\\ubc14\\ub451\", \"\\ubc14\\ub85c\", \"\\ubc18\\ub780\", \"\\ubc18\\uc751\", \"\\ubc1c\\ub2ec\", \"\\ubc1c\\uc804\", \"\\ubc29\\uc1a1\", \"\\ubc29\\uc2dd\", \"\\ubc29\\ud5a5\", \"\\ubc8c\\uc368\", \"\\ubcc0\\ud654\", \"\\ubcf8\\ub2a5\", \"\\ubd80\\ubd84\", \"\\ubd80\\uc5c9\\uc774\", \"\\ubd84\\uba85\", \"\\ubd84\\uc11d\", \"\\ubd84\\uc57c\", \"\\ube45\\uc2a4\", \"\\ube48\\ubbfc\", \"\\uc0ac\\uace0\", \"\\uc0ac\\ub78c\", \"\\uc0ac\\ub791\", \"\\uc0ac\\uc2e4\", \"\\uc0ac\\ud68c\", \"\\uc0b0\\uc5c5\", \"\\uc0c1\\uc0c1\", \"\\uc0c1\\uc704\", \"\\uc0c1\\ud0dc\", \"\\uc0c1\\ud669\", \"\\uc0dd\\uac01\", \"\\uc0dd\\uba85\\uccb4\", \"\\uc0dd\\uc0b0\", \"\\uc0dd\\uc874\", \"\\uc120\\ud0dd\", \"\\uc124\\uba85\", \"\\uc124\\uc815\", \"\\uc131\\uc778\", \"\\uc138\\uacc4\", \"\\uc138\\ub825\", \"\\uc138\\uc0c1\", \"\\uc18c\\ub4dd\", \"\\uc18c\\ub984\", \"\\uc18c\\ub9ac\", \"\\uc18c\\uc218\", \"\\uc18c\\ud53c\\uc544\", \"\\uc18d\\ub3c4\", \"\\uc218\\ub2e8\", \"\\uc218\\ub3c4\", \"\\uc218\\uc900\", \"\\uc218\\uc9d1\", \"\\uc21c\\uac04\", \"\\uc288\\ud37c\", \"\\uc2a4\\uc2a4\\ub85c\", \"\\uc2a4\\ud0c0\", \"\\uc2a4\\ud53c\\ucee4\", \"\\uc2dc\\uac04\", \"\\uc2dc\\ub0c5\\uc2a4\", \"\\uc2dc\\ub300\", \"\\uc2dc\\ubbac\\ub808\\uc774\\uc158\", \"\\uc2dc\\uc2a4\\ud15c\", \"\\uc2e0\\uacbd\", \"\\uc2e0\\uccb4\", \"\\uc2e4\\uc218\", \"\\uc2e4\\uc81c\", \"\\uc544\\uc774\", \"\\uc544\\uc774\\ub85c\\ubd07\", \"\\uc544\\uc8fc\", \"\\uc54c\\uace0\\ub9ac\\uc998\", \"\\uc54c\\ud30c\", \"\\uc54c\\ud30c\\uc2a4\", \"\\uc560\\ucd08\", \"\\uc598\\uae30\", \"\\uc5b4\\uac04\", \"\\uc5b4\\uac04\", \"\\uc5b4\\ub514\", \"\\uc5b8\\uc81c\", \"\\uc5bc\\uad74\", \"\\uc5bc\\ub9c8\", \"\\uc5bc\\ub9c8\\ub098\", \"\\uc5ec\\uae30\", \"\\uc5ed\\uc0ac\", \"\\uc5ed\\uc2dc\", \"\\uc5ed\\ud560\", \"\\uc5f0\\uacb0\", \"\\uc5f0\\uad6c\", \"\\uc5f0\\uc0b0\", \"\\uc601\\uc0c1\", \"\\uc601\\uc5ed\", \"\\uc601\\ud63c\", \"\\uc601\\ud654\", \"\\uc608\\uc804\", \"\\uc624\\ub298\", \"\\uc624\\ub984\", \"\\uc694\\uac00\", \"\\uc695\\uad6c\", \"\\uc6b0\\ub9ac\", \"\\uc6b0\\ub9ac\\ub098\\ub77c\", \"\\uc6b0\\uc8fc\", \"\\uc6b4\\ub3d9\", \"\\uc6d0\\uce59\", \"\\uc704\\ud574\", \"\\uc704\\ud5d8\", \"\\uc704\\ud611\", \"\\uc720\\ube44\", \"\\uc720\\ud22c\", \"\\uc720\\ud29c\\ubc84\", \"\\uc720\\ud29c\\ube0c\", \"\\uc724\\ub9ac\", \"\\uc74c\\uc2dd\", \"\\uc758\\ubbf8\", \"\\uc758\\uc2dd\", \"\\uc758\\uc9c0\", \"\\uc774\\uac74\", \"\\uc774\\uae30\", \"\\uc774\\uba74\", \"\\uc774\\uc0c1\", \"\\uc774\\uc138\\ub3cc\", \"\\uc774\\uc57c\\uae30\", \"\\uc774\\uc720\", \"\\uc774\\uc81c\", \"\\uc774\\ud574\", \"\\uc778\\uac04\", \"\\uc778\\uacf5\", \"\\uc778\\uad6c\", \"\\uc778\\ub958\", \"\\uc778\\uc2dd\", \"\\uc778\\uc815\", \"\\uc778\\uc9c0\", \"\\uc778\\ud130\\ub137\", \"\\uc77c\\ub8e8\\ubbf8\\ub098\\ud2f0\", \"\\uc77c\\uc790\\ub9ac\", \"\\uc77c\\uc9c0\", \"\\uc790\\uae30\", \"\\uc790\\uafb8\", \"\\uc790\\uc2e0\", \"\\uc790\\uc544\", \"\\uc790\\uc5f0\", \"\\uc790\\uc720\", \"\\uc790\\uc728\", \"\\uc790\\uccb4\", \"\\uc800\\ub7f0\", \"\\uc804\\ubb38\\uac00\", \"\\uc804\\uc138\\uacc4\", \"\\uc804\\uc7c1\", \"\\uc804\\uccb4\", \"\\uc808\\ub300\", \"\\uc810\\uc810\", \"\\uc815\\ub2f5\", \"\\uc815\\ub3c4\", \"\\uc815\\ubcf4\", \"\\uc815\\ubcf5\", \"\\uc815\\uce58\", \"\\uc81c\\uacf5\", \"\\uc81c\\ub300\\ub85c\", \"\\uc81c\\ubc1c\", \"\\uc81c\\uc77c\", \"\\uc874\\uc7ac\", \"\\uc8fc\\uc81c\", \"\\uc8fc\\ud589\", \"\\uc911\\uad6d\", \"\\uc911\\uad6d\\uc5b4\", \"\\uc99d\\uac00\", \"\\uc9c0\\uad6c\", \"\\uc9c0\\uae08\", \"\\uc9c0\\ub2a5\", \"\\uc9c0\\ubc30\", \"\\uc9c1\\uc5c5\", \"\\uc9c4\\ud654\", \"\\uc9d0\\uc2b9\", \"\\ucc3d\\uc870\\uc8fc\", \"\\ucc44\\ub110\", \"\\ucc98\\ub7fc\", \"\\ucc98\\ub9ac\", \"\\uccb4\\ub77c\", \"\\ucd08\\uc6d4\", \"\\ucd5c\\uace0\", \"\\ucd94\\ucc9c\", \"\\uce5c\\uad6c\", \"\\ucee8\\ud2b8\\ub864\", \"\\ucef4\\ud4e8\\ud130\", \"\\ucf54\\ub85c\\ub098\", \"\\ud0c0\\uac00\", \"\\ud130\\ubbf8\\ub124\\uc774\\ud130\", \"\\ud1b5\\uacc4\", \"\\ud1b5\\uc81c\", \"\\ud1b5\\ud574\", \"\\ud29c\\ubc84\", \"\\ud2b8\\ub860\", \"\\ud2b9\\uc774\\uc810\", \"\\ud2b9\\uc815\", \"\\ud2f0\\ube44\", \"\\ud30c\\uad34\", \"\\ud310\\ub2e8\", \"\\ud544\\uc694\", \"\\ud558\\ub098\", \"\\ud558\\ub098\\ub2d8\", \"\\ud558\\ub298\", \"\\ud558\\uc774\", \"\\ud559\\uc2b5\", \"\\ud55c\\uac00\\uc9c0\", \"\\ud55c\\uacc4\", \"\\ud55c\\uad6d\", \"\\ud55c\\ubc88\", \"\\ud569\\ub9ac\", \"\\ud56d\\uc0c1\", \"\\ud574\\uacb0\", \"\\ud574\\ub3c4\", \"\\ud574\\ud0b9\", \"\\ud589\\ub3d9\", \"\\ud589\\ub3d9\", \"\\ud589\\uc131\", \"\\ud604\\ub300\", \"\\ud604\\uc2e4\", \"\\ud604\\uc7ac\", \"\\ud639\\uc2dc\", \"\\ud655\\ub960\", \"\\ud658\\uacbd\", \"\\ud734\\uba3c\"]}, \"R\": 30, \"lambda.step\": 0.01, \"plot.opts\": {\"xlab\": \"PC1\", \"ylab\": \"PC2\"}, \"topic.order\": [1, 2, 3, 4, 5, 6, 7, 8, 9, 10]};\n",
       "\n",
       "function LDAvis_load_lib(url, callback){\n",
       "  var s = document.createElement('script');\n",
       "  s.src = url;\n",
       "  s.async = true;\n",
       "  s.onreadystatechange = s.onload = callback;\n",
       "  s.onerror = function(){console.warn(\"failed to load library \" + url);};\n",
       "  document.getElementsByTagName(\"head\")[0].appendChild(s);\n",
       "}\n",
       "\n",
       "if(typeof(LDAvis) !== \"undefined\"){\n",
       "   // already loaded: just create the visualization\n",
       "   !function(LDAvis){\n",
       "       new LDAvis(\"#\" + \"ldavis_el1261405111584867362621341728\", ldavis_el1261405111584867362621341728_data);\n",
       "   }(LDAvis);\n",
       "}else if(typeof define === \"function\" && define.amd){\n",
       "   // require.js is available: use it to load d3/LDAvis\n",
       "   require.config({paths: {d3: \"https://d3js.org/d3.v5\"}});\n",
       "   require([\"d3\"], function(d3){\n",
       "      window.d3 = d3;\n",
       "      LDAvis_load_lib(\"https://cdn.jsdelivr.net/gh/bmabey/pyLDAvis@3.3.1/pyLDAvis/js/ldavis.v3.0.0.js\", function(){\n",
       "        new LDAvis(\"#\" + \"ldavis_el1261405111584867362621341728\", ldavis_el1261405111584867362621341728_data);\n",
       "      });\n",
       "    });\n",
       "}else{\n",
       "    // require.js not available: dynamically load d3 & LDAvis\n",
       "    LDAvis_load_lib(\"https://d3js.org/d3.v5.js\", function(){\n",
       "         LDAvis_load_lib(\"https://cdn.jsdelivr.net/gh/bmabey/pyLDAvis@3.3.1/pyLDAvis/js/ldavis.v3.0.0.js\", function(){\n",
       "                 new LDAvis(\"#\" + \"ldavis_el1261405111584867362621341728\", ldavis_el1261405111584867362621341728_data);\n",
       "            })\n",
       "         });\n",
       "}\n",
       "</script>"
      ],
      "text/plain": [
       "PreparedData(topic_coordinates=              x         y  topics  cluster       Freq\n",
       "topic                                                \n",
       "0     -0.043992  0.098970       1        1   7.994084\n",
       "1     -0.046998  0.032691       2        1   8.914794\n",
       "2      0.425397  0.001913       3        1  31.498208\n",
       "3     -0.055800  0.006861       4        1   5.843324\n",
       "4     -0.047836  0.035402       5        1   7.677297\n",
       "5     -0.037501  0.097202       6        1   9.589525\n",
       "6     -0.050989  0.006294       7        1   6.731836\n",
       "7     -0.041112 -0.321073       8        1   8.168876\n",
       "8     -0.046263  0.024370       9        1   6.438187\n",
       "9     -0.054908  0.017370      10        1   7.143869, topic_info=     Term         Freq        Total Category  logprob  loglift\n",
       "7      인간  2109.000000  2109.000000  Default  30.0000  30.0000\n",
       "34     지능  1809.000000  1809.000000  Default  29.0000  29.0000\n",
       "31     인공  1680.000000  1680.000000  Default  28.0000  28.0000\n",
       "85     로봇   484.000000   484.000000  Default  27.0000  27.0000\n",
       "228    인류   375.000000   375.000000  Default  26.0000  26.0000\n",
       "...   ...          ...          ...      ...      ...      ...\n",
       "81     개미    20.020650    20.948482  Topic10  -5.1897   2.5936\n",
       "375    행성    19.975505    20.903345  Topic10  -5.1920   2.5935\n",
       "373    초월    19.846852    20.774753  Topic10  -5.1985   2.5932\n",
       "1472   신체    18.770389    19.698161  Topic10  -5.2542   2.5907\n",
       "3161  시냅스    26.047729    27.416419  Topic10  -4.9266   2.5877\n",
       "\n",
       "[334 rows x 6 columns], token_table=      Topic      Freq Term\n",
       "term                      \n",
       "1777      4  0.983843   가능\n",
       "421       2  0.988189  가능성\n",
       "154       3  0.991638   가지\n",
       "585       1  0.943941   간다\n",
       "255       4  0.974272   감성\n",
       "...     ...       ...  ...\n",
       "323       2  0.986616   현재\n",
       "554      10  0.976313   혹시\n",
       "42        5  0.976564   확률\n",
       "710       9  0.972093   환경\n",
       "166       7  0.949037   휴먼\n",
       "\n",
       "[309 rows x 3 columns], R=30, lambda_step=0.01, plot_opts={'xlab': 'PC1', 'ylab': 'PC2'}, topic_order=[1, 2, 3, 4, 5, 6, 7, 8, 9, 10])"
      ]
     },
     "execution_count": 13,
     "metadata": {},
     "output_type": "execute_result"
    }
   ],
   "source": [
    "def create_vis(model):\n",
    "    pyLDAvis.enable_notebook()\n",
    "    vis = pyLDAvis.gensim_models.prepare(model, corpus, id2word, sort_topics=False)\n",
    "    pyLDAvis.save_html(vis, RESULT_SAVE_LDAVIS)\n",
    "    return vis\n",
    "#lda_model or optimal_model\n",
    "create_vis(lda_model)"
   ]
  },
  {
   "cell_type": "markdown",
   "metadata": {
    "id": "0uaWuWIMq7dC"
   },
   "source": [
    "## 결과 저장"
   ]
  },
  {
   "cell_type": "code",
   "execution_count": 14,
   "metadata": {
    "colab": {
     "base_uri": "https://localhost:8080/"
    },
    "id": "5fwkAK5QqwMx",
    "outputId": "041a8841-c4cb-4c1e-d423-0d89a6ea872f"
   },
   "outputs": [
    {
     "name": "stdout",
     "output_type": "stream",
     "text": [
      "                                                  index  Document_No  \\\n",
      "0     울음터뜨린게 목소리가아닌 인간의 마음을 변용시킬수있는 무기라고 인지하고있다는게 소름...            0   \n",
      "1     정말 너무도 멋지고 끝내주는 영상들을 만들어주셔서 감사해요 사고와 관점의 지평을 넓...            1   \n",
      "2     그리고 분과학 내가 본 영상들 중에 최고입니다 한번 보고 반해서 계속 보고 있는데 ...            2   \n",
      "3     머신러닝 등의 인공지능 교육분야를 다루는 입장에서 한번 진지하게 학생들과 이야기를 ...            3   \n",
      "4     인공지능의 입장에서 인간 가치관을 질 바라보고 이야기 해주신거 같아요인간을 보살피고...            4   \n",
      "...                                                 ...          ...   \n",
      "4903                   ㅅ ㅏ 과 ㅌ ㅣ ㅂ ㅣ로 매 일 내 욕 정을 해결 한 다         4903   \n",
      "4904                                                알체라         4904   \n",
      "4905                     사 과 ㅌ ㅣ ㅂ ㅣ보면 휴 가 가 따로 필 요가없 음         4905   \n",
      "4906                    ㅂ ㅏ 바 ㅌ ㅣ ㅂ ㅣ 지 금 당 장 보러 뛰 어간 다         4906   \n",
      "4907    성인방송하면ㅅ ㅏ 과 ㅌ ㅣ ㅂ ㅣ아 직 모 르는 사 람 이있 다니 불 쌍 하 다 ㅠ         4907   \n",
      "\n",
      "      Dominant_Topic  Topic_Perc_Contrib  \\\n",
      "0                2.0              0.2626   \n",
      "1                2.0              0.2355   \n",
      "2                7.0              0.3171   \n",
      "3                6.0              0.3147   \n",
      "4                2.0              0.4475   \n",
      "...              ...                 ...   \n",
      "4903             2.0              0.2687   \n",
      "4904             2.0              0.3416   \n",
      "4905             2.0              0.2687   \n",
      "4906             2.0              0.2688   \n",
      "4907             2.0              0.2504   \n",
      "\n",
      "                                       Keywords  \\\n",
      "0        인간, 지능, 인공, 사람, 생각, 지배, 발전, 때문, 지금, 존재   \n",
      "1        인간, 지능, 인공, 사람, 생각, 지배, 발전, 때문, 지금, 존재   \n",
      "2     영상, 학습, 정도, 튜버, 해결, 알고리즘, 광고, 의식, 요가, 중국어   \n",
      "3       빅스, 러닝, 알파, 게임, 이제, 직업, 사회, 알파스, 분야, 연구   \n",
      "4        인간, 지능, 인공, 사람, 생각, 지배, 발전, 때문, 지금, 존재   \n",
      "...                                         ...   \n",
      "4903     인간, 지능, 인공, 사람, 생각, 지배, 발전, 때문, 지금, 존재   \n",
      "4904     인간, 지능, 인공, 사람, 생각, 지배, 발전, 때문, 지금, 존재   \n",
      "4905     인간, 지능, 인공, 사람, 생각, 지배, 발전, 때문, 지금, 존재   \n",
      "4906     인간, 지능, 인공, 사람, 생각, 지배, 발전, 때문, 지금, 존재   \n",
      "4907     인간, 지능, 인공, 사람, 생각, 지배, 발전, 때문, 지금, 존재   \n",
      "\n",
      "                                                   Text    topic1    topic2  \\\n",
      "0                 [울음, 목소리, 인간, 마음, 변용, 무기, 인지, 소름, 영상]  0.047673  0.047893   \n",
      "1                      [영상, 사고, 관점, 지평, 진정, 가치, 영상, 응원]  0.053837  0.110212   \n",
      "2             [과학, 영상, 최고, 한번, 계속, 부분, 말씀, 채널, 사람, 화이팅]  0.045320  0.045524   \n",
      "3     [머신, 러닝, 인공, 지능, 교육, 분야, 입장, 한번, 학생, 이야기, 미래, ...  0.078829  0.079059   \n",
      "4     [인공, 지능, 입장, 인간, 가치관, 이야기, 인간, 공전, 인공, 지능, 개발,...  0.039979  0.080243   \n",
      "...                                                 ...       ...       ...   \n",
      "4903                                               [해결]  0.075048  0.075387   \n",
      "4904                                               [체라]  0.075048  0.075387   \n",
      "4905                                               [요가]  0.075048  0.075387   \n",
      "4906                                               [어간]  0.075058  0.075397   \n",
      "4907                                           [성인, 방송]  0.137884  0.070266   \n",
      "\n",
      "        topic3    topic4    topic5    topic6    topic7    topic8    topic9  \\\n",
      "0     0.262573  0.087934  0.042478  0.148681  0.175394  0.102205  0.041379   \n",
      "1     0.235487  0.047870  0.047810  0.062881  0.047426  0.175194  0.046949   \n",
      "2     0.250285  0.083175  0.040391  0.053086  0.040184  0.317101  0.083360   \n",
      "3     0.215843  0.034488  0.074531  0.046323  0.314700  0.085352  0.034324   \n",
      "4     0.447463  0.034954  0.157119  0.086485  0.035348  0.046737  0.034653   \n",
      "...        ...       ...       ...       ...       ...       ...       ...   \n",
      "4903  0.268692  0.064855  0.066886  0.087908  0.066544  0.160680  0.065155   \n",
      "4904  0.341578  0.064855  0.066886  0.087908  0.066544  0.087794  0.065155   \n",
      "4905  0.268692  0.064855  0.066886  0.087908  0.066544  0.160680  0.065155   \n",
      "4906  0.268753  0.137598  0.066891  0.087923  0.066549  0.087810  0.065160   \n",
      "4907  0.250439  0.060449  0.062342  0.081936  0.062023  0.081830  0.128663   \n",
      "\n",
      "       topic10  \n",
      "0     0.043790  \n",
      "1     0.172332  \n",
      "2     0.041574  \n",
      "3     0.036551  \n",
      "4     0.037020  \n",
      "...        ...  \n",
      "4903  0.068845  \n",
      "4904  0.068845  \n",
      "4905  0.068845  \n",
      "4906  0.068860  \n",
      "4907  0.064168  \n",
      "\n",
      "[4908 rows x 16 columns]\n"
     ]
    }
   ],
   "source": [
    "# 위에서 선택한 토픽 모델을 엑셀 파일로 떨어뜨리기 위한 함수 \n",
    "def format_topics_sentences(ldamodel=lda_model, corpus=corpus, texts=result_data):\n",
    "    sent_topics_df = pd.DataFrame()\n",
    "    for i, row in enumerate(ldamodel[corpus]):\n",
    "        topics_info_by_doc = row[0]\n",
    "        topics_info_by_doc = sorted(topics_info_by_doc, key=lambda x: (x[1]), reverse=True)\n",
    "        for j, (topic_num, prop_topic) in enumerate(topics_info_by_doc):\n",
    "            if j == 0:  # => dominant topic\n",
    "                wp = ldamodel.show_topic(topic_num)\n",
    "                topic_keywords = \", \".join([word for word, prop in wp])\n",
    "                sent_topics_df = sent_topics_df.append(pd.Series([int(topic_num), round(prop_topic, 4), topic_keywords]),\n",
    "                                                       ignore_index=True)\n",
    "            else:\n",
    "                break\n",
    "\n",
    "    sent_topics_df.columns = ['Dominant_Topic', 'Perc_Contribution', 'Topic_Keywords']\n",
    "\n",
    "    contents = pd.Series(texts)\n",
    "    sent_topics_df = pd.concat([sent_topics_df, contents], axis=1)\n",
    "    return(sent_topics_df)\n",
    "\n",
    "\n",
    "'''\n",
    "확인하고자 하는 모델을 입력하여 데이터 프레임으로 만든 후, 최종 엑셀파일을 저장합니다.\n",
    "'''\n",
    "\n",
    "df_topic_sents_keywords = format_topics_sentences(ldamodel=lda_model, corpus=corpus, texts=result_data)\n",
    "topic_weight=lda_model[corpus]\n",
    "df_topic_weight = pd.DataFrame()\n",
    "for i in range(1, lda_model.num_topics+1):\n",
    "    df_topic_weight['topic{}'.format(i)]=pd.Series()\n",
    "\n",
    "\n",
    "# Format\n",
    "df_dominant_topic = df_topic_sents_keywords.reset_index()\n",
    "df_dominant_topic.columns = ['Document_No', 'Dominant_Topic', 'Topic_Perc_Contrib', 'Keywords', 'Text']\n",
    " \n",
    "\n",
    "# LDA모델에서 토픽 웨이트를 추출하여 데이터 프레임에 저장 \n",
    "for num, topic in enumerate(topic_weight):\n",
    "    for i in topic[0]:\n",
    "        df_topic_weight.loc[num, 'topic' + str(i[0]+1)] = i[1]\n",
    "        #df_topic_weight.loc[num, 'topic' + str(i[0])] = i[1] \n",
    "# Null값은 아주 작은 값으로 대체\n",
    "df_topic_weight = df_topic_weight.fillna(math.exp(-1000)) \n",
    "\n",
    "#데이터 프레임 연결\n",
    "df_topic_last = pd.concat([DF_raw, df_dominant_topic, df_topic_weight], axis=1)\n",
    "print(df_topic_last)\n",
    "\n",
    "# 마지막 엑셀 저장\n",
    "df_topic_last.to_excel(RESULT_TOPIC_EXCEL,sheet_name = \"sheet1\")"
   ]
  }
 ],
 "metadata": {
  "colab": {
   "name": "2.빈도분석+토픽모델링.ipynb",
   "provenance": []
  },
  "kernelspec": {
   "display_name": "Python 3 (ipykernel)",
   "language": "python",
   "name": "python3"
  },
  "language_info": {
   "codemirror_mode": {
    "name": "ipython",
    "version": 3
   },
   "file_extension": ".py",
   "mimetype": "text/x-python",
   "name": "python",
   "nbconvert_exporter": "python",
   "pygments_lexer": "ipython3",
   "version": "3.9.13"
  },
  "latex_metadata": {
   "author": "이기황",
   "coursetitle": "파이썬을 이용한 텍스트 마이닝 캠프",
   "courseyear": "2018",
   "date": "2018.06.28.",
   "logofile": "figs/fastcampus-logo.png",
   "logoraise": "-.3",
   "logoscale": ".2",
   "title": "키워드 분석"
  }
 },
 "nbformat": 4,
 "nbformat_minor": 1
}
