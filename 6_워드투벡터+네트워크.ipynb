{
 "cells": [
  {
   "cell_type": "code",
   "execution_count": 1,
   "metadata": {
    "colab": {
     "base_uri": "https://localhost:8080/"
    },
    "id": "aVXdpYRwpaco",
    "outputId": "c81e572c-17cc-40cb-c280-52ea39c3c9f5"
   },
   "outputs": [
    {
     "name": "stdout",
     "output_type": "stream",
     "text": [
      "Mounted at /content/gdrive\n"
     ]
    }
   ],
   "source": [
    "from google.colab import drive\n",
    "drive.mount('/content/gdrive')"
   ]
  },
  {
   "cell_type": "markdown",
   "metadata": {
    "id": "i_O_du_TGhEN"
   },
   "source": [
    "## gensim 패키지를 사용한 Word2Vec "
   ]
  },
  {
   "cell_type": "markdown",
   "metadata": {
    "id": "BCCVzO-OusQC"
   },
   "source": [
    "### 주요 코드\n",
    "- 패키지 임포트\n",
    "    - import gensim\n",
    "    - from gensim.models import Word2Vec\n",
    "\n",
    "\n",
    "- 모델 파라메타 설정\n",
    "    - model = Word2Vec(sentences, size=100, window=5, min_count=5)\n",
    "        - size: 차원의 수\n",
    "        - window: 주변 단어 범위\n",
    "        - min_count: 최소 빈도\n",
    "        - sg = 1 --> Skip-gram\n",
    "        - sg= 0 --> CBOW (default)"
   ]
  },
  {
   "cell_type": "code",
   "execution_count": 2,
   "metadata": {
    "colab": {
     "base_uri": "https://localhost:8080/"
    },
    "id": "yWQTKYLecsi3",
    "outputId": "3b508597-7b6c-47f7-e206-1aaeb6e49855"
   },
   "outputs": [
    {
     "name": "stdout",
     "output_type": "stream",
     "text": [
      "Looking in indexes: https://pypi.org/simple, https://us-python.pkg.dev/colab-wheels/public/simple/\n",
      "Collecting konlpy\n",
      "  Downloading konlpy-0.6.0-py2.py3-none-any.whl (19.4 MB)\n",
      "\u001b[K     |████████████████████████████████| 19.4 MB 718 kB/s \n",
      "\u001b[?25hCollecting JPype1>=0.7.0\n",
      "  Downloading JPype1-1.4.0-cp37-cp37m-manylinux_2_5_x86_64.manylinux1_x86_64.whl (453 kB)\n",
      "\u001b[K     |████████████████████████████████| 453 kB 76.9 MB/s \n",
      "\u001b[?25hRequirement already satisfied: numpy>=1.6 in /usr/local/lib/python3.7/dist-packages (from konlpy) (1.21.6)\n",
      "Requirement already satisfied: lxml>=4.1.0 in /usr/local/lib/python3.7/dist-packages (from konlpy) (4.2.6)\n",
      "Requirement already satisfied: typing-extensions in /usr/local/lib/python3.7/dist-packages (from JPype1>=0.7.0->konlpy) (4.1.1)\n",
      "Installing collected packages: JPype1, konlpy\n",
      "Successfully installed JPype1-1.4.0 konlpy-0.6.0\n"
     ]
    }
   ],
   "source": [
    "!pip install konlpy"
   ]
  },
  {
   "cell_type": "code",
   "execution_count": 2,
   "metadata": {
    "id": "jf65A-etcfmC"
   },
   "outputs": [],
   "source": [
    "import pandas as pd\n",
    "import re"
   ]
  },
  {
   "cell_type": "code",
   "execution_count": 3,
   "metadata": {
    "id": "-jYxPVlocopZ"
   },
   "outputs": [],
   "source": [
    "from konlpy.tag import Komoran\n",
    "tagger = Komoran()"
   ]
  },
  {
   "cell_type": "code",
   "execution_count": 5,
   "metadata": {
    "colab": {
     "base_uri": "https://localhost:8080/"
    },
    "id": "3jbLB87Avtq-",
    "outputId": "952847c4-c53c-4813-bc2d-a1f33b64d41a"
   },
   "outputs": [
    {
     "name": "stdout",
     "output_type": "stream",
     "text": [
      "Looking in indexes: https://pypi.org/simple, https://us-python.pkg.dev/colab-wheels/public/simple/\n",
      "Collecting ujson\n",
      "  Downloading ujson-5.3.0-cp37-cp37m-manylinux_2_17_x86_64.manylinux2014_x86_64.whl (45 kB)\n",
      "\u001b[K     |████████████████████████████████| 45 kB 2.9 MB/s \n",
      "\u001b[?25hInstalling collected packages: ujson\n",
      "Successfully installed ujson-5.3.0\n"
     ]
    }
   ],
   "source": [
    "!pip install ujson"
   ]
  },
  {
   "cell_type": "code",
   "execution_count": null,
   "metadata": {
    "id": "-k_YUYNwX8sN"
   },
   "outputs": [],
   "source": [
    "# 워드 임베딩\n",
    "\n",
    "import ujson\n",
    "import gensim\n",
    "from gensim.models import Word2Vec\n",
    "\n",
    "\n",
    "\n",
    "def main():\n",
    "    \n",
    "    sentences = read_documents()\n",
    "# Word2Vec------------------------------------------------------------------------\n",
    "    model = Word2Vec(sentences, size=100, window=5, min_count=5) # Word2Vec\n",
    "# -------------------------------------------------------------------------   \n",
    "    utilize(model)\n",
    "\n",
    "    save_reuse(model)\n",
    "    \n",
    "\n",
    "def read_documents():\n",
    "  df = pd.read_csv('/content/인공지능youtube댓글.csv', sep=',', encoding='utf-8', engine='python')\n",
    "  \n",
    "  text_sentences = []\n",
    "  for post in df:\n",
    "      text_sentences.extend(re.split('; |\\?|\\!|\\ㅋ|\\ㄷ|\\ㅠ', post))\n",
    "  text_sentencesss = []\n",
    "\n",
    "  for sentence in text_sentences:\n",
    "    if sentence == '' or sentence == ' ' or sentence == '  ':\n",
    "      continue\n",
    "    else:\n",
    "      text_sentencesss.append(sentence)\n",
    "\n",
    "  text_sentences = text_sentencesss\n",
    "  text_sentences_nouns = []\n",
    "  for sentence in text_sentences:\n",
    "      sentence_nouns = tagger.nouns(sentence)\n",
    "      text_sentences_nouns.append(sentence_nouns)\n",
    "\n",
    "  return text_sentences_nouns\n",
    "\n",
    "def utilize(model):\n",
    "    \n",
    "    word_vectors = model.wv\n",
    "    \n",
    "    print(word_vectors.vocab.keys()) # 단어리스트\n",
    "\n",
    "    print(word_vectors.index2word[:]) # 빈도순의 단어리스트\n",
    "    \n",
    "    print(word_vectors[\"인간\"]) # 단어의 100차원의 실제 벡터값\n",
    "    \n",
    "    print(word_vectors.similarity(\"인간\", \"로봇\")) # \n",
    "    \n",
    "    print(word_vectors.n_similarity([\"인간\", \"로봇\"], [\"인류\", \"우리\"]))\n",
    "    \n",
    "    print(word_vectors.similar_by_word(\"인간\", topn = 5)) # 유사한 단어 5개, topn의 기본값은10\n",
    "    \n",
    "    print(word_vectors.most_similar(positive=[\"인간\"], negative=[\"로봇\"], topn=5))\n",
    "    \n",
    "    print(word_vectors.most_similar(positive=[\"발전\",\"기술\"], negative=[\"개발\"]))\n",
    "    \n",
    "\n",
    "def save_reuse(model):\n",
    "    \n",
    "    from gensim.models.keyedvectors import KeyedVectors\n",
    "    \n",
    "    model_file_name = \"/content/AI_dip.model\"\n",
    "    model.save(model_file_name)                                   # 모델 저장\n",
    "\n",
    "    model2 = Word2Vec.load(model_file_name)\n",
    "    word_vectors2 = model2.wv\n",
    "    print(word_vectors2[\"로봇\"])\n",
    "    \n",
    "    \n",
    "    word_vector_file_name = \"/content/AI_dip.wv\"\n",
    "    word_vectors2.save(word_vector_file_name)                     # 벡터 저장                  \n",
    "    \n",
    "    word_vectors3 = KeyedVectors.load(word_vector_file_name)\n",
    "    print(word_vectors3[\"로봇\"])\n",
    "   \n",
    "\n",
    "main()"
   ]
  },
  {
   "cell_type": "markdown",
   "metadata": {
    "id": "XosOtoljcMn1"
   },
   "source": [
    "# 네트워크 시각화"
   ]
  },
  {
   "cell_type": "code",
   "execution_count": null,
   "metadata": {
    "colab": {
     "base_uri": "https://localhost:8080/",
     "height": 319
    },
    "id": "ClNYKxzo3oAL",
    "outputId": "496ce417-ae29-470f-92be-47390657b02d"
   },
   "outputs": [
    {
     "data": {
      "image/png": "[encoded data removed]",
      "text/plain": [
       "<Figure size 432x288 with 1 Axes>"
      ]
     },
     "metadata": {},
     "output_type": "display_data"
    }
   ],
   "source": [
    "# 네트워크 샘플\n",
    "import matplotlib.pyplot as plt\n",
    "import networkx as nx\n",
    "\n",
    "G = nx.star_graph(20)\n",
    "pos = nx.spring_layout(G, seed=63)  # Seed layout for reproducibility\n",
    "colors = range(20)\n",
    "options = {\n",
    "    \"node_color\": \"#A0CBE2\",\n",
    "    \"edge_color\": colors,\n",
    "    \"width\": 4,\n",
    "    \"edge_cmap\": plt.cm.Blues,\n",
    "    \"with_labels\": False,\n",
    "}\n",
    "nx.draw(G, pos, **options)\n",
    "plt.show()"
   ]
  },
  {
   "cell_type": "code",
   "execution_count": 6,
   "metadata": {
    "colab": {
     "base_uri": "https://localhost:8080/"
    },
    "id": "wXqTDmKZa9Ak",
    "outputId": "3c227f9c-ce12-4c9e-aef9-2ed9ea4b6b24"
   },
   "outputs": [
    {
     "name": "stdout",
     "output_type": "stream",
     "text": [
      "Reading package lists... Done\n",
      "Building dependency tree       \n",
      "Reading state information... Done\n",
      "The following package was automatically installed and is no longer required:\n",
      "  libnvidia-common-460\n",
      "Use 'sudo apt autoremove' to remove it.\n",
      "The following NEW packages will be installed:\n",
      "  fonts-nanum\n",
      "0 upgraded, 1 newly installed, 0 to remove and 49 not upgraded.\n",
      "Need to get 9,604 kB of archives.\n",
      "After this operation, 29.5 MB of additional disk space will be used.\n",
      "Get:1 http://archive.ubuntu.com/ubuntu bionic/universe amd64 fonts-nanum all 20170925-1 [9,604 kB]\n",
      "Fetched 9,604 kB in 1s (8,798 kB/s)\n",
      "debconf: unable to initialize frontend: Dialog\n",
      "debconf: (No usable dialog-like program is installed, so the dialog based frontend cannot be used. at /usr/share/perl5/Debconf/FrontEnd/Dialog.pm line 76, <> line 1.)\n",
      "debconf: falling back to frontend: Readline\n",
      "debconf: unable to initialize frontend: Readline\n",
      "debconf: (This frontend requires a controlling tty.)\n",
      "debconf: falling back to frontend: Teletype\n",
      "dpkg-preconfigure: unable to re-open stdin: \n",
      "Selecting previously unselected package fonts-nanum.\n",
      "(Reading database ... 155639 files and directories currently installed.)\n",
      "Preparing to unpack .../fonts-nanum_20170925-1_all.deb ...\n",
      "Unpacking fonts-nanum (20170925-1) ...\n",
      "Setting up fonts-nanum (20170925-1) ...\n",
      "Processing triggers for fontconfig (2.12.6-0ubuntu2) ...\n",
      "/usr/share/fonts: caching, new cache contents: 0 fonts, 1 dirs\n",
      "/usr/share/fonts/truetype: caching, new cache contents: 0 fonts, 3 dirs\n",
      "/usr/share/fonts/truetype/humor-sans: caching, new cache contents: 1 fonts, 0 dirs\n",
      "/usr/share/fonts/truetype/liberation: caching, new cache contents: 16 fonts, 0 dirs\n",
      "/usr/share/fonts/truetype/nanum: caching, new cache contents: 10 fonts, 0 dirs\n",
      "/usr/local/share/fonts: caching, new cache contents: 0 fonts, 0 dirs\n",
      "/root/.local/share/fonts: skipping, no such directory\n",
      "/root/.fonts: skipping, no such directory\n",
      "/var/cache/fontconfig: cleaning cache directory\n",
      "/root/.cache/fontconfig: not cleaning non-existent cache directory\n",
      "/root/.fontconfig: not cleaning non-existent cache directory\n",
      "fc-cache: succeeded\n"
     ]
    }
   ],
   "source": [
    "# 코랩에서 한글깨질 경우 실행\n",
    "!sudo apt-get install -y fonts-nanum\n",
    "!sudo fc-cache -fv\n",
    "!rm ~/.cache/matplotlib -rf\n",
    "# 실행후 런타임/런타임 다시 시작 을 클릭"
   ]
  },
  {
   "cell_type": "code",
   "execution_count": null,
   "metadata": {
    "colab": {
     "base_uri": "https://localhost:8080/"
    },
    "id": "DxMKCMEBTGCN",
    "outputId": "e07b19ad-5480-4bee-9474-1c846dd61cf0"
   },
   "outputs": [
    {
     "name": "stdout",
     "output_type": "stream",
     "text": [
      "Looking in indexes: https://pypi.org/simple, https://us-python.pkg.dev/colab-wheels/public/simple/\n",
      "Collecting ujson\n",
      "  Downloading ujson-5.3.0-cp37-cp37m-manylinux_2_17_x86_64.manylinux2014_x86_64.whl (45 kB)\n",
      "\u001b[K     |████████████████████████████████| 45 kB 1.7 MB/s \n",
      "\u001b[?25hInstalling collected packages: ujson\n",
      "Successfully installed ujson-5.3.0\n"
     ]
    }
   ],
   "source": [
    "pip install ujson"
   ]
  },
  {
   "cell_type": "code",
   "execution_count": null,
   "metadata": {
    "colab": {
     "base_uri": "https://localhost:8080/"
    },
    "id": "MXqbyHxjWqeP",
    "outputId": "5b59e5bc-67ab-4489-868e-c94a47e0c709"
   },
   "outputs": [
    {
     "name": "stdout",
     "output_type": "stream",
     "text": [
      "Looking in indexes: https://pypi.org/simple, https://us-python.pkg.dev/colab-wheels/public/simple/\n",
      "Collecting konlpy\n",
      "  Downloading konlpy-0.6.0-py2.py3-none-any.whl (19.4 MB)\n",
      "\u001b[K     |████████████████████████████████| 19.4 MB 1.8 MB/s \n",
      "\u001b[?25hRequirement already satisfied: lxml>=4.1.0 in /usr/local/lib/python3.7/dist-packages (from konlpy) (4.2.6)\n",
      "Collecting JPype1>=0.7.0\n",
      "  Downloading JPype1-1.4.0-cp37-cp37m-manylinux_2_5_x86_64.manylinux1_x86_64.whl (453 kB)\n",
      "\u001b[K     |████████████████████████████████| 453 kB 22.5 MB/s \n",
      "\u001b[?25hRequirement already satisfied: numpy>=1.6 in /usr/local/lib/python3.7/dist-packages (from konlpy) (1.21.6)\n",
      "Requirement already satisfied: typing-extensions in /usr/local/lib/python3.7/dist-packages (from JPype1>=0.7.0->konlpy) (4.1.1)\n",
      "Installing collected packages: JPype1, konlpy\n",
      "Successfully installed JPype1-1.4.0 konlpy-0.6.0\n"
     ]
    }
   ],
   "source": [
    "!pip install konlpy"
   ]
  },
  {
   "cell_type": "code",
   "execution_count": 4,
   "metadata": {
    "colab": {
     "base_uri": "https://localhost:8080/",
     "height": 248
    },
    "id": "x2zxJczeGhEN",
    "outputId": "9fdb97fb-303d-48b4-9cde-2a3fda58ccd8"
   },
   "outputs": [
    {
     "data": {
      "image/png": "[encoded data removed]",
      "text/plain": [
       "<Figure size 432x288 with 1 Axes>"
      ]
     },
     "metadata": {},
     "output_type": "display_data"
    }
   ],
   "source": [
    "# 워드 임베딩을 통한 유의어 네트워크 도출\n",
    "\n",
    "\n",
    "import sys\n",
    "import ujson\n",
    "from gensim.models import Word2Vec\n",
    "from itertools import combinations\n",
    "import networkx as nx  #네트워크화 \n",
    "import matplotlib.pyplot as plt # 그래프\n",
    "\n",
    "NUM_TOP_WORDS = 25\n",
    "\n",
    "\n",
    "def main():\n",
    "    \"\"\"문서 집합에 단어 임베딩을 수행하여 어휘 유사도 네트워크를 시각화한다.\"\"\"\n",
    "  \n",
    "    sentences = read_sentences()\n",
    "    \n",
    "    model = Word2Vec(sentences, size=100, window=5, min_count=5) # Word2Vec\n",
    "    word_vectors = model.wv\n",
    "    \n",
    "    word_sim_net = build_word_sim_network(word_vectors)       # 네트워크 생성\n",
    "    draw_network(word_sim_net)           # 네트워크 그리기\n",
    "    \n",
    "\n",
    "def read_sentences():\n",
    "  df = pd.read_csv('/content/인공지능youtube댓글.csv', sep=',', encoding='utf-8', engine='python')\n",
    "  \n",
    "  text_sentences = []\n",
    "  for post in df:\n",
    "      text_sentences.extend(re.split('; |\\?|\\!|\\ㅋ|\\ㄷ|\\ㅠ', post))\n",
    "  text_sentencesss = []\n",
    "\n",
    "  for sentence in text_sentences:\n",
    "    if sentence == '' or sentence == ' ' or sentence == '  ':\n",
    "      continue\n",
    "    else:\n",
    "      text_sentencesss.append(sentence)\n",
    "\n",
    "  text_sentences = text_sentencesss\n",
    "  text_sentences_nouns = []\n",
    "  for sentence in text_sentences:\n",
    "      sentence_nouns = tagger.nouns(sentence)\n",
    "      text_sentences_nouns.append(sentence_nouns)\n",
    "\n",
    "  return text_sentences_nouns\n",
    "    \n",
    "\n",
    "\n",
    "def build_word_sim_network(word_vectors):\n",
    "    \"\"\"주어진 어휘 벡터로부터 어휘 유사도 네트워크를 생성하여 돌려준다.\"\"\"\n",
    "    G = nx.Graph()\n",
    "    freq_words = [word_vectors.index2word[i] for i in range(NUM_TOP_WORDS)]\n",
    "    for word_i, word_j in combinations(freq_words, 2):\n",
    "        sim = word_vectors.similarity(word_i, word_j)\n",
    "        G.add_edge(word_i, word_j, weight=sim)\n",
    "        \n",
    "    T = nx.minimum_spanning_tree(G)\n",
    "\n",
    "    return T   \n",
    "\n",
    "\n",
    "def draw_network(G):\n",
    "    \"\"\"어휘 유사도 네트워크를 화면에 표시한다.\"\"\"\n",
    "    \n",
    "    font_name = \"NanumGothic\"\n",
    "    nx.draw_networkx(G, \\\n",
    "            pos=nx.spring_layout(G, k=0.2, scale=2), \\\n",
    "            node_size=800, \\\n",
    "            node_color=\"yellow\", \\\n",
    "            font_family=font_name, \\\n",
    "            #label_pos=0.0,  \\\n",
    "            with_labels=True, \\\n",
    "            font_size=10)\n",
    "\n",
    "    plt.axis(\"off\")\n",
    "    plt.show()\n",
    "   \n",
    "\n",
    "main()"
   ]
  },
  {
   "cell_type": "markdown",
   "metadata": {
    "id": "5zR3wEjLGhEO"
   },
   "source": [
    "#### 주요 코드\n",
    "- 패키지 임포트\n",
    "    - from gensim.models import doc2vec\n",
    "    - from gensim.models.doc2vec import TaggedDocument\n",
    "\n",
    "\n",
    "- 문서에 태그 부여\n",
    "    - tagged_documents = read_tagged_documents(input_file_name)\n",
    "    - 예) tagged_documents[0] = ( words=[‘뜻’, ‘깊다‘, ….., ‘감사‘] ,tags = [‘NMH_SPEECH_29’] )  \n",
    "    \n"
   ]
  },
  {
   "cell_type": "code",
   "execution_count": null,
   "metadata": {
    "colab": {
     "base_uri": "https://localhost:8080/"
    },
    "id": "d8c0Ts4SGhEO",
    "outputId": "2efb9fbe-ca4c-4d02-9f7d-149ed95db8ae"
   },
   "outputs": [
    {
     "name": "stdout",
     "output_type": "stream",
     "text": [
      "[-0.07712812  0.16475226  0.04538668  0.29778087  0.01988011 -0.02420287\n",
      " -0.07815574  0.09004601  0.17611574 -0.05438296]\n",
      "[('NMH_SPEECH_357', 0.9996702671051025), ('NMH_SPEECH_599', 0.9996487498283386), ('NMH_SPEECH_511', 0.9996479749679565)]\n"
     ]
    }
   ],
   "source": [
    "# 문서 임베딩\n",
    "\n",
    "import ujson\n",
    "import numpy as np\n",
    "from gensim.models import doc2vec\n",
    "from gensim.models.doc2vec import TaggedDocument\n",
    "\n",
    "FEATURE_POSES = [\"NNG\", \"NNP\", \"MM\", \"MAG\", \"MAJ\", \"VV\", \"VA\"]\n",
    "PRED_POSES = [\"VV\", \"VA\"]\n",
    "MA_KEY = \"body_ma\"\n",
    "\n",
    "def main():\n",
    "    \n",
    "    input_file_name = \"/content/dataset/nmh_speeches.txt\"\n",
    "    \n",
    "    tagged_documents = read_tagged_documents(input_file_name)\n",
    "   \n",
    "    doc_vects = generate_d2v(tagged_documents)\n",
    "    \n",
    "    use_d2v(doc_vects)\n",
    "    \n",
    "def read_tagged_documents(input_file_name):\n",
    "        \n",
    "    tagged_documents = []\n",
    "\n",
    "    with open(input_file_name, \"r\", encoding=\"utf-8\") as input_file:\n",
    "        for i, line in enumerate(input_file):\n",
    "            json_obj = ujson.loads(line)\n",
    "            \n",
    "            if json_obj[\"field\"] != \"외교/통상\":\n",
    "                    continue\n",
    "\n",
    "            morphs = []\n",
    "            \n",
    "            for sent_anal in json_obj[MA_KEY]:\n",
    "                for morph_lex, morph_cat in sent_anal:\n",
    "                    if morph_cat not in FEATURE_POSES:\n",
    "                        continue\n",
    "                        \n",
    "                    if morph_cat in PRED_POSES:\n",
    "                        morph_lex += \"다\"\n",
    "                        \n",
    "                    morphs.append(morph_lex)\n",
    "            \n",
    "            tag = \"NMH_SPEECH_\" + str(i)                          # 태그 생성\n",
    "            tagged_document = TaggedDocument(morphs, [tag])       # 복수 개의 태그를 부여할 수 있지만, 여기서는 하나만 부여\n",
    "            tagged_documents.append(tagged_document)\n",
    "\n",
    "    return tagged_documents\n",
    "\n",
    "def generate_d2v(tagged_documents):\n",
    "    \n",
    "    model = doc2vec.Doc2Vec(tagged_documents, vector_size=100, min_count=5)\n",
    "      \n",
    "    doc_vects = model.docvecs\n",
    "\n",
    "    return doc_vects\n",
    "\n",
    "\n",
    "def use_d2v(doc_vects):\n",
    "    \n",
    "    print(doc_vects[\"NMH_SPEECH_29\"][:10])\n",
    "    print(doc_vects.most_similar(\"NMH_SPEECH_29\", topn=3))   \n",
    "   \n",
    "main()\n",
    "# 문서29번의 벡터중 10개만 추출\n",
    "#유사한 문서 3개만 추출 : 511번, 111번, 357번 문서"
   ]
  }
 ],
 "metadata": {
  "colab": {
   "machine_shape": "hm",
   "name": "6.워드투벡터+네트워크.ipynb",
   "provenance": []
  },
  "gpuClass": "standard",
  "kernelspec": {
   "display_name": "Python 3 (ipykernel)",
   "language": "python",
   "name": "python3"
  },
  "language_info": {
   "codemirror_mode": {
    "name": "ipython",
    "version": 3
   },
   "file_extension": ".py",
   "mimetype": "text/x-python",
   "name": "python",
   "nbconvert_exporter": "python",
   "pygments_lexer": "ipython3",
   "version": "3.9.13"
  }
 },
 "nbformat": 4,
 "nbformat_minor": 1
}
