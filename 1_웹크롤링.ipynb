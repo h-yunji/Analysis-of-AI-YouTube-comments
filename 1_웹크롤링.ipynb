{
 "cells": [
  {
   "cell_type": "code",
   "execution_count": null,
   "metadata": {
    "colab": {
     "base_uri": "https://localhost:8080/"
    },
    "id": "1tl_x9muflyE",
    "outputId": "c0aa7115-dd1b-4faa-9589-188e1407cdb5"
   },
   "outputs": [
    {
     "name": "stdout",
     "output_type": "stream",
     "text": [
      "Looking in indexes: https://pypi.org/simple, https://us-python.pkg.dev/colab-wheels/public/simple/\n",
      "Collecting selenium\n",
      "  Downloading selenium-4.2.0-py3-none-any.whl (983 kB)\n",
      "\u001b[K     |████████████████████████████████| 983 kB 4.8 MB/s \n",
      "\u001b[?25hCollecting trio~=0.17\n",
      "  Downloading trio-0.21.0-py3-none-any.whl (358 kB)\n",
      "\u001b[K     |████████████████████████████████| 358 kB 48.2 MB/s \n",
      "\u001b[?25hCollecting trio-websocket~=0.9\n",
      "  Downloading trio_websocket-0.9.2-py3-none-any.whl (16 kB)\n",
      "Collecting urllib3[secure,socks]~=1.26\n",
      "  Downloading urllib3-1.26.9-py2.py3-none-any.whl (138 kB)\n",
      "\u001b[K     |████████████████████████████████| 138 kB 59.5 MB/s \n",
      "\u001b[?25hRequirement already satisfied: sortedcontainers in /usr/local/lib/python3.7/dist-packages (from trio~=0.17->selenium) (2.4.0)\n",
      "Requirement already satisfied: attrs>=19.2.0 in /usr/local/lib/python3.7/dist-packages (from trio~=0.17->selenium) (21.4.0)\n",
      "Collecting sniffio\n",
      "  Downloading sniffio-1.2.0-py3-none-any.whl (10 kB)\n",
      "Collecting async-generator>=1.9\n",
      "  Downloading async_generator-1.10-py3-none-any.whl (18 kB)\n",
      "Collecting outcome\n",
      "  Downloading outcome-1.2.0-py2.py3-none-any.whl (9.7 kB)\n",
      "Requirement already satisfied: idna in /usr/local/lib/python3.7/dist-packages (from trio~=0.17->selenium) (2.10)\n",
      "Collecting wsproto>=0.14\n",
      "  Downloading wsproto-1.1.0-py3-none-any.whl (24 kB)\n",
      "Requirement already satisfied: PySocks!=1.5.7,<2.0,>=1.5.6 in /usr/local/lib/python3.7/dist-packages (from urllib3[secure,socks]~=1.26->selenium) (1.7.1)\n",
      "Collecting pyOpenSSL>=0.14\n",
      "  Downloading pyOpenSSL-22.0.0-py2.py3-none-any.whl (55 kB)\n",
      "\u001b[K     |████████████████████████████████| 55 kB 3.9 MB/s \n",
      "\u001b[?25hCollecting cryptography>=1.3.4\n",
      "  Downloading cryptography-37.0.2-cp36-abi3-manylinux_2_24_x86_64.whl (4.0 MB)\n",
      "\u001b[K     |████████████████████████████████| 4.0 MB 39.3 MB/s \n",
      "\u001b[?25hRequirement already satisfied: certifi in /usr/local/lib/python3.7/dist-packages (from urllib3[secure,socks]~=1.26->selenium) (2022.6.15)\n",
      "Requirement already satisfied: cffi>=1.12 in /usr/local/lib/python3.7/dist-packages (from cryptography>=1.3.4->urllib3[secure,socks]~=1.26->selenium) (1.15.0)\n",
      "Requirement already satisfied: pycparser in /usr/local/lib/python3.7/dist-packages (from cffi>=1.12->cryptography>=1.3.4->urllib3[secure,socks]~=1.26->selenium) (2.21)\n",
      "Collecting h11<1,>=0.9.0\n",
      "  Downloading h11-0.13.0-py3-none-any.whl (58 kB)\n",
      "\u001b[K     |████████████████████████████████| 58 kB 2.8 MB/s \n",
      "\u001b[?25hRequirement already satisfied: typing-extensions in /usr/local/lib/python3.7/dist-packages (from h11<1,>=0.9.0->wsproto>=0.14->trio-websocket~=0.9->selenium) (4.1.1)\n",
      "Installing collected packages: sniffio, outcome, h11, cryptography, async-generator, wsproto, urllib3, trio, pyOpenSSL, trio-websocket, selenium\n",
      "  Attempting uninstall: urllib3\n",
      "    Found existing installation: urllib3 1.24.3\n",
      "    Uninstalling urllib3-1.24.3:\n",
      "      Successfully uninstalled urllib3-1.24.3\n",
      "\u001b[31mERROR: pip's dependency resolver does not currently take into account all the packages that are installed. This behaviour is the source of the following dependency conflicts.\n",
      "requests 2.23.0 requires urllib3!=1.25.0,!=1.25.1,<1.26,>=1.21.1, but you have urllib3 1.26.9 which is incompatible.\n",
      "datascience 0.10.6 requires folium==0.2.1, but you have folium 0.8.3 which is incompatible.\u001b[0m\n",
      "Successfully installed async-generator-1.10 cryptography-37.0.2 h11-0.13.0 outcome-1.2.0 pyOpenSSL-22.0.0 selenium-4.2.0 sniffio-1.2.0 trio-0.21.0 trio-websocket-0.9.2 urllib3-1.26.9 wsproto-1.1.0\n"
     ]
    }
   ],
   "source": [
    "!pip install selenium"
   ]
  },
  {
   "cell_type": "code",
   "execution_count": null,
   "metadata": {
    "id": "eES-f5j-foYM"
   },
   "outputs": [],
   "source": [
    "!pip install konlpy"
   ]
  },
  {
   "cell_type": "code",
   "execution_count": null,
   "metadata": {
    "id": "wviXfTQOford"
   },
   "outputs": [],
   "source": [
    "!apt-get update\n",
    "!apt install chromium-chromedriver"
   ]
  },
  {
   "cell_type": "code",
   "execution_count": null,
   "metadata": {
    "id": "rymFcSv3fovj"
   },
   "outputs": [],
   "source": [
    "import pandas as pd\n",
    "import numpy as np\n",
    "import time\n",
    "from selenium import webdriver"
   ]
  },
  {
   "cell_type": "code",
   "execution_count": null,
   "metadata": {
    "colab": {
     "base_uri": "https://localhost:8080/"
    },
    "id": "9n4Zy8IEfoxg",
    "outputId": "698d7389-239a-4079-be30-18b9203ecb1b"
   },
   "outputs": [
    {
     "name": "stderr",
     "output_type": "stream",
     "text": [
      "/usr/local/lib/python3.7/dist-packages/ipykernel_launcher.py:5: DeprecationWarning: use options instead of chrome_options\n",
      "  \"\"\"\n"
     ]
    }
   ],
   "source": [
    "chrome_options = webdriver.ChromeOptions()\n",
    "chrome_options.add_argument('--headless') \n",
    "chrome_options.add_argument('--no-sandbox')\n",
    "chrome_options.add_argument('--disable-dev-shm-usage')\n",
    "driver = webdriver.Chrome('chromedriver',chrome_options=chrome_options)\n"
   ]
  },
  {
   "cell_type": "code",
   "execution_count": null,
   "metadata": {
    "id": "qy1epg5xft1y"
   },
   "outputs": [],
   "source": [
    "from bs4 import BeautifulSoup \n",
    "from selenium import webdriver \n",
    "from tqdm import tqdm \n",
    "import time \n",
    "import re"
   ]
  },
  {
   "cell_type": "code",
   "execution_count": null,
   "metadata": {
    "id": "gGn1MW8Cfvvu"
   },
   "outputs": [],
   "source": [
    "from selenium.webdriver.common.keys import Keys"
   ]
  },
  {
   "cell_type": "code",
   "execution_count": null,
   "metadata": {
    "id": "Fczz9Tmgfxgi"
   },
   "outputs": [],
   "source": [
    "pip install pyOpenSSL"
   ]
  },
  {
   "cell_type": "markdown",
   "metadata": {
    "id": "ykkOWfCYkj0-"
   },
   "source": [
    "## 인공지능 관련 유튜브 댓글 크롤링"
   ]
  },
  {
   "cell_type": "code",
   "execution_count": null,
   "metadata": {
    "colab": {
     "base_uri": "https://localhost:8080/"
    },
    "id": "Q4v6d2Rrfylf",
    "outputId": "4da6131f-4c96-4d90-dc65-e1cd310c2b41"
   },
   "outputs": [
    {
     "name": "stderr",
     "output_type": "stream",
     "text": [
      "/usr/local/lib/python3.7/dist-packages/ipykernel_launcher.py:12: DeprecationWarning: find_element_by_tag_name is deprecated. Please use find_element(by=By.TAG_NAME, value=name) instead\n",
      "  if sys.path[0] == '':\n",
      "100%|██████████| 1920/1920 [00:00<00:00, 113017.52it/s]\n"
     ]
    }
   ],
   "source": [
    "# 인공지능에 대해 우리가 간과하고 있는 무서운 사실\n",
    "comments = []\n",
    "\n",
    "url = 'https://www.youtube.com/watch?v=8RiHLNJOgoo'\n",
    "\n",
    "\n",
    "driver.maximize_window()\n",
    "driver.get(url)\n",
    "\n",
    "time.sleep(3)\n",
    "    \n",
    "for i in range(500):\n",
    "        driver.find_element_by_tag_name('body').send_keys(Keys.PAGE_DOWN) # 스크롤 내림\n",
    "        time.sleep(0.5) # 0.5초 텀\n",
    "     \n",
    "\n",
    "    \n",
    "soup = BeautifulSoup(driver.page_source,'lxml')\n",
    "titles = soup.find_all('yt-formatted-string', attrs = {'id':'content-text'})\n",
    "titles\n",
    "for title in tqdm(titles):\n",
    "    comment = title.get_text()\n",
    "    comments.append(comment) # 리스트에 댓글 추가"
   ]
  },
  {
   "cell_type": "code",
   "execution_count": null,
   "metadata": {
    "colab": {
     "base_uri": "https://localhost:8080/"
    },
    "id": "lLJGZMwFiPG6",
    "outputId": "af503873-258c-4555-a5b6-9372eab592cf"
   },
   "outputs": [
    {
     "data": {
      "text/plain": [
       "1920"
      ]
     },
     "execution_count": 11,
     "metadata": {},
     "output_type": "execute_result"
    }
   ],
   "source": [
    "len(comments)"
   ]
  },
  {
   "cell_type": "code",
   "execution_count": null,
   "metadata": {
    "colab": {
     "base_uri": "https://localhost:8080/"
    },
    "id": "WYfswc1IhFCJ",
    "outputId": "7e95d17d-acad-48c8-c29b-a2b15479315a"
   },
   "outputs": [
    {
     "name": "stderr",
     "output_type": "stream",
     "text": [
      "/usr/local/lib/python3.7/dist-packages/ipykernel_launcher.py:11: DeprecationWarning: find_element_by_tag_name is deprecated. Please use find_element(by=By.TAG_NAME, value=name) instead\n",
      "  # This is added back by InteractiveShellApp.init_path()\n",
      "100%|██████████| 986/986 [00:00<00:00, 130939.20it/s]\n"
     ]
    }
   ],
   "source": [
    "# 인류는 정말로… 인공지능의 지배를 받게 될까?\n",
    "url = 'https://www.youtube.com/watch?v=0NIUVzg7CRk'\n",
    "\n",
    "\n",
    "driver.maximize_window()\n",
    "driver.get(url)\n",
    "\n",
    "time.sleep(3)\n",
    "    \n",
    "for i in range(500):\n",
    "        driver.find_element_by_tag_name('body').send_keys(Keys.PAGE_DOWN) # 스크롤 내림\n",
    "        time.sleep(0.5) # 0.5초 텀\n",
    "     \n",
    "\n",
    "    \n",
    "soup = BeautifulSoup(driver.page_source,'lxml')\n",
    "titles = soup.find_all('yt-formatted-string', attrs = {'id':'content-text'})\n",
    "titles\n",
    "for title in tqdm(titles):\n",
    "    comment = title.get_text()\n",
    "    comments.append(comment) # 리스트에 댓글 추가"
   ]
  },
  {
   "cell_type": "code",
   "execution_count": null,
   "metadata": {
    "colab": {
     "base_uri": "https://localhost:8080/"
    },
    "id": "i_6Qgo4IkCOt",
    "outputId": "ddaad622-3003-4a0e-d526-99161d34de72"
   },
   "outputs": [
    {
     "data": {
      "text/plain": [
       "2906"
      ]
     },
     "execution_count": 13,
     "metadata": {},
     "output_type": "execute_result"
    }
   ],
   "source": [
    "len(comments)"
   ]
  },
  {
   "cell_type": "code",
   "execution_count": null,
   "metadata": {
    "colab": {
     "base_uri": "https://localhost:8080/"
    },
    "id": "F3MD89WnhdG_",
    "outputId": "5765c8c5-ad68-40f0-fc92-85128c8818d9"
   },
   "outputs": [
    {
     "name": "stderr",
     "output_type": "stream",
     "text": [
      "/usr/local/lib/python3.7/dist-packages/ipykernel_launcher.py:11: DeprecationWarning: find_element_by_tag_name is deprecated. Please use find_element(by=By.TAG_NAME, value=name) instead\n",
      "  # This is added back by InteractiveShellApp.init_path()\n",
      "100%|██████████| 840/840 [00:00<00:00, 104277.25it/s]\n"
     ]
    }
   ],
   "source": [
    "# 개발자도 이해할 수 없었던 인공지능의 소름 끼치는 말 1404\n",
    "url = 'https://www.youtube.com/watch?v=KIpuTQUgdEg'\n",
    "\n",
    "\n",
    "driver.maximize_window()\n",
    "driver.get(url)\n",
    "\n",
    "time.sleep(3)\n",
    "    \n",
    "for i in range(200):\n",
    "        driver.find_element_by_tag_name('body').send_keys(Keys.PAGE_DOWN) # 스크롤 내림\n",
    "        time.sleep(0.5) # 0.5초 텀\n",
    "     \n",
    "\n",
    "    \n",
    "soup = BeautifulSoup(driver.page_source,'lxml')\n",
    "titles = soup.find_all('yt-formatted-string', attrs = {'id':'content-text'})\n",
    "titles\n",
    "for title in tqdm(titles):\n",
    "    comment = title.get_text()\n",
    "    comments.append(comment) # 리스트에 댓글 추가"
   ]
  },
  {
   "cell_type": "code",
   "execution_count": null,
   "metadata": {
    "colab": {
     "base_uri": "https://localhost:8080/"
    },
    "id": "FZ5ZZCEgkEnL",
    "outputId": "1b129135-aae9-4bf7-ccf3-fa0d9560b3d2"
   },
   "outputs": [
    {
     "data": {
      "text/plain": [
       "3746"
      ]
     },
     "execution_count": 15,
     "metadata": {},
     "output_type": "execute_result"
    }
   ],
   "source": [
    "len(comments)"
   ]
  },
  {
   "cell_type": "code",
   "execution_count": null,
   "metadata": {
    "colab": {
     "base_uri": "https://localhost:8080/"
    },
    "id": "VONXe6xZf6kD",
    "outputId": "eeab8063-e359-4699-bc8f-8a518698c05f"
   },
   "outputs": [
    {
     "name": "stderr",
     "output_type": "stream",
     "text": [
      "/usr/local/lib/python3.7/dist-packages/ipykernel_launcher.py:11: DeprecationWarning: find_element_by_tag_name is deprecated. Please use find_element(by=By.TAG_NAME, value=name) instead\n",
      "  # This is added back by InteractiveShellApp.init_path()\n",
      "100%|██████████| 154/154 [00:00<00:00, 96738.48it/s]\n"
     ]
    }
   ],
   "source": [
    "# 명견만리 ｜두 얼굴의 인공지능 249\n",
    "url = 'https://www.youtube.com/watch?v=972iqeJAt_g'\n",
    "\n",
    "\n",
    "driver.maximize_window()\n",
    "driver.get(url)\n",
    "\n",
    "time.sleep(3)\n",
    "    \n",
    "for i in range(50):\n",
    "        driver.find_element_by_tag_name('body').send_keys(Keys.PAGE_DOWN) # 스크롤 내림\n",
    "        time.sleep(0.5) # 0.5초 텀\n",
    "     \n",
    "\n",
    "    \n",
    "soup = BeautifulSoup(driver.page_source,'lxml')\n",
    "titles = soup.find_all('yt-formatted-string', attrs = {'id':'content-text'})\n",
    "titles\n",
    "for title in tqdm(titles):\n",
    "    comment = title.get_text()\n",
    "    comments.append(comment) # 리스트에 댓글 추가"
   ]
  },
  {
   "cell_type": "code",
   "execution_count": null,
   "metadata": {
    "colab": {
     "base_uri": "https://localhost:8080/"
    },
    "id": "YRqMiqP-kHBO",
    "outputId": "6e96771f-a220-4bb0-fd78-3db25b0ce2e0"
   },
   "outputs": [
    {
     "data": {
      "text/plain": [
       "3900"
      ]
     },
     "execution_count": 17,
     "metadata": {},
     "output_type": "execute_result"
    }
   ],
   "source": [
    "len(comments)"
   ]
  },
  {
   "cell_type": "code",
   "execution_count": null,
   "metadata": {
    "colab": {
     "base_uri": "https://localhost:8080/"
    },
    "id": "l8vv46yIf_dA",
    "outputId": "b7a159d7-9d13-4905-dd2e-faa14d5d4881"
   },
   "outputs": [
    {
     "name": "stderr",
     "output_type": "stream",
     "text": [
      "/usr/local/lib/python3.7/dist-packages/ipykernel_launcher.py:11: DeprecationWarning: find_element_by_tag_name is deprecated. Please use find_element(by=By.TAG_NAME, value=name) instead\n",
      "  # This is added back by InteractiveShellApp.init_path()\n",
      "100%|██████████| 380/380 [00:00<00:00, 74989.91it/s]\n"
     ]
    }
   ],
   "source": [
    "# 인간계 최강의 두뇌들도 두려워하는 미래 과학 기술 828\n",
    "url = 'https://www.youtube.com/watch?v=OCNW_Htkkpo'\n",
    "\n",
    "\n",
    "driver.maximize_window()\n",
    "driver.get(url)\n",
    "\n",
    "time.sleep(3)\n",
    "    \n",
    "for i in range(100):\n",
    "        driver.find_element_by_tag_name('body').send_keys(Keys.PAGE_DOWN) # 스크롤 내림\n",
    "        time.sleep(0.5) # 0.5초 텀\n",
    "     \n",
    "\n",
    "    \n",
    "soup = BeautifulSoup(driver.page_source,'lxml')\n",
    "titles = soup.find_all('yt-formatted-string', attrs = {'id':'content-text'})\n",
    "titles\n",
    "for title in tqdm(titles):\n",
    "    comment = title.get_text()\n",
    "    comments.append(comment) # 리스트에 댓글 추가"
   ]
  },
  {
   "cell_type": "code",
   "execution_count": null,
   "metadata": {
    "colab": {
     "base_uri": "https://localhost:8080/"
    },
    "id": "FxoobdCAiHTm",
    "outputId": "5661a749-1e88-41c7-b897-6357a4ee4a2f"
   },
   "outputs": [
    {
     "name": "stderr",
     "output_type": "stream",
     "text": [
      "/usr/local/lib/python3.7/dist-packages/ipykernel_launcher.py:11: DeprecationWarning: find_element_by_tag_name is deprecated. Please use find_element(by=By.TAG_NAME, value=name) instead\n",
      "  # This is added back by InteractiveShellApp.init_path()\n",
      "100%|██████████| 290/290 [00:00<00:00, 34747.84it/s]\n"
     ]
    }
   ],
   "source": [
    "# 인공지능이 세상을 지배할 것인가? (AI의 한계와 위험) 462\n",
    "url = 'https://www.youtube.com/watch?v=Ttv5PuxU0Is'\n",
    "\n",
    "\n",
    "driver.maximize_window()\n",
    "driver.get(url)\n",
    "\n",
    "time.sleep(3)\n",
    "    \n",
    "for i in range(100):\n",
    "        driver.find_element_by_tag_name('body').send_keys(Keys.PAGE_DOWN) # 스크롤 내림\n",
    "        time.sleep(0.5) # 0.5초 텀\n",
    "     \n",
    "\n",
    "    \n",
    "soup = BeautifulSoup(driver.page_source,'lxml')\n",
    "titles = soup.find_all('yt-formatted-string', attrs = {'id':'content-text'})\n",
    "titles\n",
    "for title in tqdm(titles):\n",
    "    comment = title.get_text()\n",
    "    comments.append(comment) # 리스트에 댓글 추가"
   ]
  },
  {
   "cell_type": "code",
   "execution_count": null,
   "metadata": {
    "colab": {
     "base_uri": "https://localhost:8080/"
    },
    "id": "2lbs_17WlBY2",
    "outputId": "289ea42c-9869-40f8-d372-5d135edc4ef7"
   },
   "outputs": [
    {
     "name": "stdout",
     "output_type": "stream",
     "text": [
      "총 댓글 수 : 4936\n"
     ]
    }
   ],
   "source": [
    "print('총 댓글 수 :', len(comments))"
   ]
  },
  {
   "cell_type": "markdown",
   "metadata": {
    "id": "8YB9fa4xknsi"
   },
   "source": [
    "## 전처리, csv파일로 저장"
   ]
  },
  {
   "cell_type": "code",
   "execution_count": null,
   "metadata": {
    "id": "kap95Sibkhlx"
   },
   "outputs": [],
   "source": [
    "import re \n",
    "def test(s): \n",
    "  hangul = re.compile('[^ ㄱ-ㅣ가-힣+]') # 한글과 띄어쓰기를 제외한 모든 글\n",
    "  result = hangul.sub('', s) # 한글과 띄어쓰기를 제외한 모든 부분을 제거 \n",
    "  return (result)"
   ]
  },
  {
   "cell_type": "code",
   "execution_count": null,
   "metadata": {},
   "outputs": [],
   "source": [
    "# h_list에 한글 댓글 저장\n",
    "\n",
    "h_lst = []\n",
    "h_list = []\n",
    "\n",
    "for i in comments:  # 한국어 댓글만 리스트에 담기\n",
    "  h_lst.append(test(i))\n",
    "\n",
    "for i in h_lst:  # 공백으로만 이루어진 리스트 원소 삭제\n",
    "  temp = i.split()\n",
    "  h_list.append(\" \".join(temp))\n",
    "  if h_list[-1]=='':\n",
    "      h_list.pop()\n",
    "\n",
    "h_list"
   ]
  },
  {
   "cell_type": "code",
   "execution_count": null,
   "metadata": {
    "id": "LRY632riky4P"
   },
   "outputs": [],
   "source": [
    "# csv파일로 저장\n",
    "\n",
    "import csv\n",
    "with open('인공지능youtube댓글.csv','w', encoding='utf-8-sig') as file :\n",
    "\n",
    "    write = csv.writer(file)\n",
    "    write.writerow(h_list)"
   ]
  },
  {
   "cell_type": "code",
   "execution_count": null,
   "metadata": {
    "id": "6gf159-Dk1pv"
   },
   "outputs": [],
   "source": [
    "# txt파일로 저장\n",
    "\n",
    "import csv\n",
    "with open('인공지능youtube댓글.txt','w', encoding='utf-8-sig') as file :\n",
    "\n",
    "    write = csv.writer(file)\n",
    "    write.writerow(h_list)"
   ]
  }
 ],
 "metadata": {
  "colab": {
   "name": "1.웹크롤링.ipynb",
   "provenance": []
  },
  "kernelspec": {
   "display_name": "Python 3 (ipykernel)",
   "language": "python",
   "name": "python3"
  },
  "language_info": {
   "codemirror_mode": {
    "name": "ipython",
    "version": 3
   },
   "file_extension": ".py",
   "mimetype": "text/x-python",
   "name": "python",
   "nbconvert_exporter": "python",
   "pygments_lexer": "ipython3",
   "version": "3.9.13"
  }
 },
 "nbformat": 4,
 "nbformat_minor": 1
}
